{
 "cells": [
  {
   "cell_type": "code",
   "execution_count": 1,
   "metadata": {
    "colab": {
     "base_uri": "https://localhost:8080/",
     "height": 34
    },
    "colab_type": "code",
    "executionInfo": {
     "elapsed": 610,
     "status": "ok",
     "timestamp": 1582281673701,
     "user": {
      "displayName": "Lorenzo Ostano",
      "photoUrl": "https://lh3.googleusercontent.com/a-/AAuE7mDfbTrQOtVl9hqp--PC0XF8fkf5BqgmQs5iU2TvPw=s64",
      "userId": "12249114541243713917"
     },
     "user_tz": -60
    },
    "id": "8GFiGZIYAy19",
    "outputId": "8c6107cd-3458-461a-9959-f5fdb1146e33"
   },
   "outputs": [
    {
     "name": "stdout",
     "output_type": "stream",
     "text": [
      "Drive already mounted at /content/drive; to attempt to forcibly remount, call drive.mount(\"/content/drive\", force_remount=True).\n"
     ]
    }
   ],
   "source": [
    "#only run this cell if you're on colab\n",
    "from google.colab import drive\n",
    "drive.mount('/content/drive')"
   ]
  },
  {
   "cell_type": "code",
   "execution_count": 0,
   "metadata": {
    "colab": {},
    "colab_type": "code",
    "id": "rjYUxK9bA5ER"
   },
   "outputs": [],
   "source": [
    "path = '/content/drive/My Drive/Wine_Recommendation_Challenge/'"
   ]
  },
  {
   "cell_type": "markdown",
   "metadata": {
    "colab_type": "text",
    "id": "9GRHL8c-BYaX"
   },
   "source": [
    "# Data Exploration"
   ]
  },
  {
   "cell_type": "code",
   "execution_count": 3,
   "metadata": {
    "colab": {
     "base_uri": "https://localhost:8080/",
     "height": 204
    },
    "colab_type": "code",
    "executionInfo": {
     "elapsed": 1227,
     "status": "ok",
     "timestamp": 1582281676505,
     "user": {
      "displayName": "Lorenzo Ostano",
      "photoUrl": "https://lh3.googleusercontent.com/a-/AAuE7mDfbTrQOtVl9hqp--PC0XF8fkf5BqgmQs5iU2TvPw=s64",
      "userId": "12249114541243713917"
     },
     "user_tz": -60
    },
    "id": "DLtlciGCBWk8",
    "outputId": "50aa2141-7e01-4930-9e77-e065ae0a9854"
   },
   "outputs": [
    {
     "data": {
      "text/html": [
       "<div>\n",
       "<style scoped>\n",
       "    .dataframe tbody tr th:only-of-type {\n",
       "        vertical-align: middle;\n",
       "    }\n",
       "\n",
       "    .dataframe tbody tr th {\n",
       "        vertical-align: top;\n",
       "    }\n",
       "\n",
       "    .dataframe thead th {\n",
       "        text-align: right;\n",
       "    }\n",
       "</style>\n",
       "<table border=\"1\" class=\"dataframe\">\n",
       "  <thead>\n",
       "    <tr style=\"text-align: right;\">\n",
       "      <th></th>\n",
       "      <th>title</th>\n",
       "      <th>variety</th>\n",
       "      <th>designation</th>\n",
       "      <th>country</th>\n",
       "      <th>province</th>\n",
       "      <th>description</th>\n",
       "      <th>price</th>\n",
       "      <th>winery</th>\n",
       "      <th>taster_name</th>\n",
       "      <th>points</th>\n",
       "    </tr>\n",
       "  </thead>\n",
       "  <tbody>\n",
       "    <tr>\n",
       "      <th>0</th>\n",
       "      <td>Nicosia 2013 Vulkà Bianco  (Etna)</td>\n",
       "      <td>White Blend</td>\n",
       "      <td>Vulkà Bianco</td>\n",
       "      <td>Italy</td>\n",
       "      <td>Sicily &amp; Sardinia</td>\n",
       "      <td>Aromas include tropical fruit, broom, brimston...</td>\n",
       "      <td>NaN</td>\n",
       "      <td>Nicosia</td>\n",
       "      <td>Kerin O’Keefe</td>\n",
       "      <td>87</td>\n",
       "    </tr>\n",
       "    <tr>\n",
       "      <th>1</th>\n",
       "      <td>Quinta dos Avidagos 2011 Avidagos Red (Douro)</td>\n",
       "      <td>Portuguese Red</td>\n",
       "      <td>Avidagos</td>\n",
       "      <td>Portugal</td>\n",
       "      <td>Douro</td>\n",
       "      <td>This is ripe and fruity, a wine that is smooth...</td>\n",
       "      <td>15.0</td>\n",
       "      <td>Quinta dos Avidagos</td>\n",
       "      <td>Roger Voss</td>\n",
       "      <td>87</td>\n",
       "    </tr>\n",
       "    <tr>\n",
       "      <th>2</th>\n",
       "      <td>Rainstorm 2013 Pinot Gris (Willamette Valley)</td>\n",
       "      <td>Pinot Gris</td>\n",
       "      <td>NaN</td>\n",
       "      <td>US</td>\n",
       "      <td>Oregon</td>\n",
       "      <td>Tart and snappy, the flavors of lime flesh and...</td>\n",
       "      <td>14.0</td>\n",
       "      <td>Rainstorm</td>\n",
       "      <td>Paul Gregutt</td>\n",
       "      <td>87</td>\n",
       "    </tr>\n",
       "    <tr>\n",
       "      <th>3</th>\n",
       "      <td>St. Julian 2013 Reserve Late Harvest Riesling ...</td>\n",
       "      <td>Riesling</td>\n",
       "      <td>Reserve Late Harvest</td>\n",
       "      <td>US</td>\n",
       "      <td>Michigan</td>\n",
       "      <td>Pineapple rind, lemon pith and orange blossom ...</td>\n",
       "      <td>13.0</td>\n",
       "      <td>St. Julian</td>\n",
       "      <td>Alexander Peartree</td>\n",
       "      <td>87</td>\n",
       "    </tr>\n",
       "    <tr>\n",
       "      <th>4</th>\n",
       "      <td>Sweet Cheeks 2012 Vintner's Reserve Wild Child...</td>\n",
       "      <td>Pinot Noir</td>\n",
       "      <td>Vintner's Reserve Wild Child Block</td>\n",
       "      <td>US</td>\n",
       "      <td>Oregon</td>\n",
       "      <td>Much like the regular bottling from 2012, this...</td>\n",
       "      <td>65.0</td>\n",
       "      <td>Sweet Cheeks</td>\n",
       "      <td>Paul Gregutt</td>\n",
       "      <td>87</td>\n",
       "    </tr>\n",
       "  </tbody>\n",
       "</table>\n",
       "</div>"
      ],
      "text/plain": [
       "                                               title  ... points\n",
       "0                  Nicosia 2013 Vulkà Bianco  (Etna)  ...     87\n",
       "1      Quinta dos Avidagos 2011 Avidagos Red (Douro)  ...     87\n",
       "2      Rainstorm 2013 Pinot Gris (Willamette Valley)  ...     87\n",
       "3  St. Julian 2013 Reserve Late Harvest Riesling ...  ...     87\n",
       "4  Sweet Cheeks 2012 Vintner's Reserve Wild Child...  ...     87\n",
       "\n",
       "[5 rows x 10 columns]"
      ]
     },
     "execution_count": 3,
     "metadata": {
      "tags": []
     },
     "output_type": "execute_result"
    }
   ],
   "source": [
    "import pandas as pd\n",
    "import os\n",
    "import numpy as np\n",
    "\n",
    "#again do this only if you're on colab\n",
    "data = pd.read_csv(os.path.join(path,\"assignment_dataset.csv\"))\n",
    "data.head()"
   ]
  },
  {
   "cell_type": "code",
   "execution_count": 0,
   "metadata": {
    "colab": {},
    "colab_type": "code",
    "id": "UPnt69kOXf69"
   },
   "outputs": [],
   "source": [
    "#run this other line if you're running it locally\n",
    "#data = pd.read_csv(\"assignment_dataset.csv\") "
   ]
  },
  {
   "cell_type": "code",
   "execution_count": 4,
   "metadata": {
    "colab": {
     "base_uri": "https://localhost:8080/",
     "height": 272
    },
    "colab_type": "code",
    "executionInfo": {
     "elapsed": 828,
     "status": "ok",
     "timestamp": 1582281676895,
     "user": {
      "displayName": "Lorenzo Ostano",
      "photoUrl": "https://lh3.googleusercontent.com/a-/AAuE7mDfbTrQOtVl9hqp--PC0XF8fkf5BqgmQs5iU2TvPw=s64",
      "userId": "12249114541243713917"
     },
     "user_tz": -60
    },
    "id": "9St5qHU2Bh_j",
    "outputId": "c976c0d4-d830-4c6f-926b-4df237a13a4e"
   },
   "outputs": [
    {
     "name": "stdout",
     "output_type": "stream",
     "text": [
      "<class 'pandas.core.frame.DataFrame'>\n",
      "RangeIndex: 129971 entries, 0 to 129970\n",
      "Data columns (total 10 columns):\n",
      "title          129971 non-null object\n",
      "variety        129970 non-null object\n",
      "designation    92506 non-null object\n",
      "country        129908 non-null object\n",
      "province       129908 non-null object\n",
      "description    129971 non-null object\n",
      "price          120975 non-null float64\n",
      "winery         129971 non-null object\n",
      "taster_name    103727 non-null object\n",
      "points         129971 non-null int64\n",
      "dtypes: float64(1), int64(1), object(8)\n",
      "memory usage: 9.9+ MB\n"
     ]
    }
   ],
   "source": [
    "data.info()"
   ]
  },
  {
   "cell_type": "code",
   "execution_count": 5,
   "metadata": {
    "colab": {
     "base_uri": "https://localhost:8080/",
     "height": 170
    },
    "colab_type": "code",
    "executionInfo": {
     "elapsed": 673,
     "status": "ok",
     "timestamp": 1582281700808,
     "user": {
      "displayName": "Lorenzo Ostano",
      "photoUrl": "https://lh3.googleusercontent.com/a-/AAuE7mDfbTrQOtVl9hqp--PC0XF8fkf5BqgmQs5iU2TvPw=s64",
      "userId": "12249114541243713917"
     },
     "user_tz": -60
    },
    "id": "QWGGJKMmBkRk",
    "outputId": "92c3dd91-6f08-4b28-f6ae-afb7a489bd86"
   },
   "outputs": [
    {
     "data": {
      "text/plain": [
       "count    120975.000000\n",
       "mean         35.363389\n",
       "std          41.022218\n",
       "min           4.000000\n",
       "25%          17.000000\n",
       "50%          25.000000\n",
       "75%          42.000000\n",
       "max        3300.000000\n",
       "Name: price, dtype: float64"
      ]
     },
     "execution_count": 5,
     "metadata": {
      "tags": []
     },
     "output_type": "execute_result"
    }
   ],
   "source": [
    "data.price.describe()"
   ]
  },
  {
   "cell_type": "markdown",
   "metadata": {
    "colab_type": "text",
    "id": "UqLZXrm_B7_l"
   },
   "source": [
    "SPLIT TRAIN AND TEST BASED ON ENTRIES WITH NULL PRICE"
   ]
  },
  {
   "cell_type": "code",
   "execution_count": 0,
   "metadata": {
    "colab": {},
    "colab_type": "code",
    "id": "I40AKeA6CA82"
   },
   "outputs": [],
   "source": [
    "discrim = np.isnan(data.price.values)"
   ]
  },
  {
   "cell_type": "code",
   "execution_count": 0,
   "metadata": {
    "colab": {},
    "colab_type": "code",
    "id": "Mn5xI6RdCciE"
   },
   "outputs": [],
   "source": [
    "train = data[~discrim].reset_index(drop=True)\n",
    "test = data[discrim].reset_index(drop=True)"
   ]
  },
  {
   "cell_type": "code",
   "execution_count": 8,
   "metadata": {
    "colab": {
     "base_uri": "https://localhost:8080/",
     "height": 204
    },
    "colab_type": "code",
    "executionInfo": {
     "elapsed": 719,
     "status": "ok",
     "timestamp": 1582281703211,
     "user": {
      "displayName": "Lorenzo Ostano",
      "photoUrl": "https://lh3.googleusercontent.com/a-/AAuE7mDfbTrQOtVl9hqp--PC0XF8fkf5BqgmQs5iU2TvPw=s64",
      "userId": "12249114541243713917"
     },
     "user_tz": -60
    },
    "id": "MwOdpQNvC1af",
    "outputId": "797036d5-3773-4eee-a63c-700f4e2c599c"
   },
   "outputs": [
    {
     "data": {
      "text/html": [
       "<div>\n",
       "<style scoped>\n",
       "    .dataframe tbody tr th:only-of-type {\n",
       "        vertical-align: middle;\n",
       "    }\n",
       "\n",
       "    .dataframe tbody tr th {\n",
       "        vertical-align: top;\n",
       "    }\n",
       "\n",
       "    .dataframe thead th {\n",
       "        text-align: right;\n",
       "    }\n",
       "</style>\n",
       "<table border=\"1\" class=\"dataframe\">\n",
       "  <thead>\n",
       "    <tr style=\"text-align: right;\">\n",
       "      <th></th>\n",
       "      <th>title</th>\n",
       "      <th>variety</th>\n",
       "      <th>designation</th>\n",
       "      <th>country</th>\n",
       "      <th>province</th>\n",
       "      <th>description</th>\n",
       "      <th>price</th>\n",
       "      <th>winery</th>\n",
       "      <th>taster_name</th>\n",
       "      <th>points</th>\n",
       "    </tr>\n",
       "  </thead>\n",
       "  <tbody>\n",
       "    <tr>\n",
       "      <th>0</th>\n",
       "      <td>Nicosia 2013 Vulkà Bianco  (Etna)</td>\n",
       "      <td>White Blend</td>\n",
       "      <td>Vulkà Bianco</td>\n",
       "      <td>Italy</td>\n",
       "      <td>Sicily &amp; Sardinia</td>\n",
       "      <td>Aromas include tropical fruit, broom, brimston...</td>\n",
       "      <td>NaN</td>\n",
       "      <td>Nicosia</td>\n",
       "      <td>Kerin O’Keefe</td>\n",
       "      <td>87</td>\n",
       "    </tr>\n",
       "    <tr>\n",
       "      <th>1</th>\n",
       "      <td>Masseria Setteporte 2012 Rosso  (Etna)</td>\n",
       "      <td>Nerello Mascalese</td>\n",
       "      <td>Rosso</td>\n",
       "      <td>Italy</td>\n",
       "      <td>Sicily &amp; Sardinia</td>\n",
       "      <td>This is dominated by oak and oak-driven aromas...</td>\n",
       "      <td>NaN</td>\n",
       "      <td>Masseria Setteporte</td>\n",
       "      <td>Kerin O’Keefe</td>\n",
       "      <td>87</td>\n",
       "    </tr>\n",
       "    <tr>\n",
       "      <th>2</th>\n",
       "      <td>Domaine de la Madone 2012 Nouveau  (Beaujolais...</td>\n",
       "      <td>Gamay</td>\n",
       "      <td>Nouveau</td>\n",
       "      <td>France</td>\n",
       "      <td>Beaujolais</td>\n",
       "      <td>Red cherry fruit comes laced with light tannin...</td>\n",
       "      <td>NaN</td>\n",
       "      <td>Domaine de la Madone</td>\n",
       "      <td>Roger Voss</td>\n",
       "      <td>86</td>\n",
       "    </tr>\n",
       "    <tr>\n",
       "      <th>3</th>\n",
       "      <td>Duca di Salaparuta 2010 Calanìca Nero d'Avola-...</td>\n",
       "      <td>Red Blend</td>\n",
       "      <td>Calanìca Nero d'Avola-Merlot</td>\n",
       "      <td>Italy</td>\n",
       "      <td>Sicily &amp; Sardinia</td>\n",
       "      <td>Merlot and Nero d'Avola form the base for this...</td>\n",
       "      <td>NaN</td>\n",
       "      <td>Duca di Salaparuta</td>\n",
       "      <td>NaN</td>\n",
       "      <td>86</td>\n",
       "    </tr>\n",
       "    <tr>\n",
       "      <th>4</th>\n",
       "      <td>Duca di Salaparuta 2011 Calanìca Grillo-Viogni...</td>\n",
       "      <td>White Blend</td>\n",
       "      <td>Calanìca Grillo-Viognier</td>\n",
       "      <td>Italy</td>\n",
       "      <td>Sicily &amp; Sardinia</td>\n",
       "      <td>Part of the extended Calanìca series, this Gri...</td>\n",
       "      <td>NaN</td>\n",
       "      <td>Duca di Salaparuta</td>\n",
       "      <td>NaN</td>\n",
       "      <td>86</td>\n",
       "    </tr>\n",
       "  </tbody>\n",
       "</table>\n",
       "</div>"
      ],
      "text/plain": [
       "                                               title  ... points\n",
       "0                  Nicosia 2013 Vulkà Bianco  (Etna)  ...     87\n",
       "1             Masseria Setteporte 2012 Rosso  (Etna)  ...     87\n",
       "2  Domaine de la Madone 2012 Nouveau  (Beaujolais...  ...     86\n",
       "3  Duca di Salaparuta 2010 Calanìca Nero d'Avola-...  ...     86\n",
       "4  Duca di Salaparuta 2011 Calanìca Grillo-Viogni...  ...     86\n",
       "\n",
       "[5 rows x 10 columns]"
      ]
     },
     "execution_count": 8,
     "metadata": {
      "tags": []
     },
     "output_type": "execute_result"
    }
   ],
   "source": [
    "test.head()"
   ]
  },
  {
   "cell_type": "code",
   "execution_count": 9,
   "metadata": {
    "colab": {
     "base_uri": "https://localhost:8080/",
     "height": 204
    },
    "colab_type": "code",
    "executionInfo": {
     "elapsed": 676,
     "status": "ok",
     "timestamp": 1582281703537,
     "user": {
      "displayName": "Lorenzo Ostano",
      "photoUrl": "https://lh3.googleusercontent.com/a-/AAuE7mDfbTrQOtVl9hqp--PC0XF8fkf5BqgmQs5iU2TvPw=s64",
      "userId": "12249114541243713917"
     },
     "user_tz": -60
    },
    "id": "sTgfKzoNDOgu",
    "outputId": "77d9b6d4-44da-455a-8161-e3e2d372d2c7"
   },
   "outputs": [
    {
     "data": {
      "text/html": [
       "<div>\n",
       "<style scoped>\n",
       "    .dataframe tbody tr th:only-of-type {\n",
       "        vertical-align: middle;\n",
       "    }\n",
       "\n",
       "    .dataframe tbody tr th {\n",
       "        vertical-align: top;\n",
       "    }\n",
       "\n",
       "    .dataframe thead th {\n",
       "        text-align: right;\n",
       "    }\n",
       "</style>\n",
       "<table border=\"1\" class=\"dataframe\">\n",
       "  <thead>\n",
       "    <tr style=\"text-align: right;\">\n",
       "      <th></th>\n",
       "      <th>title</th>\n",
       "      <th>variety</th>\n",
       "      <th>designation</th>\n",
       "      <th>country</th>\n",
       "      <th>province</th>\n",
       "      <th>description</th>\n",
       "      <th>price</th>\n",
       "      <th>winery</th>\n",
       "      <th>taster_name</th>\n",
       "      <th>points</th>\n",
       "    </tr>\n",
       "  </thead>\n",
       "  <tbody>\n",
       "    <tr>\n",
       "      <th>0</th>\n",
       "      <td>Quinta dos Avidagos 2011 Avidagos Red (Douro)</td>\n",
       "      <td>Portuguese Red</td>\n",
       "      <td>Avidagos</td>\n",
       "      <td>Portugal</td>\n",
       "      <td>Douro</td>\n",
       "      <td>This is ripe and fruity, a wine that is smooth...</td>\n",
       "      <td>15.0</td>\n",
       "      <td>Quinta dos Avidagos</td>\n",
       "      <td>Roger Voss</td>\n",
       "      <td>87</td>\n",
       "    </tr>\n",
       "    <tr>\n",
       "      <th>1</th>\n",
       "      <td>Rainstorm 2013 Pinot Gris (Willamette Valley)</td>\n",
       "      <td>Pinot Gris</td>\n",
       "      <td>NaN</td>\n",
       "      <td>US</td>\n",
       "      <td>Oregon</td>\n",
       "      <td>Tart and snappy, the flavors of lime flesh and...</td>\n",
       "      <td>14.0</td>\n",
       "      <td>Rainstorm</td>\n",
       "      <td>Paul Gregutt</td>\n",
       "      <td>87</td>\n",
       "    </tr>\n",
       "    <tr>\n",
       "      <th>2</th>\n",
       "      <td>St. Julian 2013 Reserve Late Harvest Riesling ...</td>\n",
       "      <td>Riesling</td>\n",
       "      <td>Reserve Late Harvest</td>\n",
       "      <td>US</td>\n",
       "      <td>Michigan</td>\n",
       "      <td>Pineapple rind, lemon pith and orange blossom ...</td>\n",
       "      <td>13.0</td>\n",
       "      <td>St. Julian</td>\n",
       "      <td>Alexander Peartree</td>\n",
       "      <td>87</td>\n",
       "    </tr>\n",
       "    <tr>\n",
       "      <th>3</th>\n",
       "      <td>Sweet Cheeks 2012 Vintner's Reserve Wild Child...</td>\n",
       "      <td>Pinot Noir</td>\n",
       "      <td>Vintner's Reserve Wild Child Block</td>\n",
       "      <td>US</td>\n",
       "      <td>Oregon</td>\n",
       "      <td>Much like the regular bottling from 2012, this...</td>\n",
       "      <td>65.0</td>\n",
       "      <td>Sweet Cheeks</td>\n",
       "      <td>Paul Gregutt</td>\n",
       "      <td>87</td>\n",
       "    </tr>\n",
       "    <tr>\n",
       "      <th>4</th>\n",
       "      <td>Tandem 2011 Ars In Vitro Tempranillo-Merlot (N...</td>\n",
       "      <td>Tempranillo-Merlot</td>\n",
       "      <td>Ars In Vitro</td>\n",
       "      <td>Spain</td>\n",
       "      <td>Northern Spain</td>\n",
       "      <td>Blackberry and raspberry aromas show a typical...</td>\n",
       "      <td>15.0</td>\n",
       "      <td>Tandem</td>\n",
       "      <td>Michael Schachner</td>\n",
       "      <td>87</td>\n",
       "    </tr>\n",
       "  </tbody>\n",
       "</table>\n",
       "</div>"
      ],
      "text/plain": [
       "                                               title  ... points\n",
       "0      Quinta dos Avidagos 2011 Avidagos Red (Douro)  ...     87\n",
       "1      Rainstorm 2013 Pinot Gris (Willamette Valley)  ...     87\n",
       "2  St. Julian 2013 Reserve Late Harvest Riesling ...  ...     87\n",
       "3  Sweet Cheeks 2012 Vintner's Reserve Wild Child...  ...     87\n",
       "4  Tandem 2011 Ars In Vitro Tempranillo-Merlot (N...  ...     87\n",
       "\n",
       "[5 rows x 10 columns]"
      ]
     },
     "execution_count": 9,
     "metadata": {
      "tags": []
     },
     "output_type": "execute_result"
    }
   ],
   "source": [
    "\n",
    "train.head()"
   ]
  },
  {
   "cell_type": "code",
   "execution_count": 10,
   "metadata": {
    "colab": {
     "base_uri": "https://localhost:8080/",
     "height": 272
    },
    "colab_type": "code",
    "executionInfo": {
     "elapsed": 923,
     "status": "ok",
     "timestamp": 1582281704042,
     "user": {
      "displayName": "Lorenzo Ostano",
      "photoUrl": "https://lh3.googleusercontent.com/a-/AAuE7mDfbTrQOtVl9hqp--PC0XF8fkf5BqgmQs5iU2TvPw=s64",
      "userId": "12249114541243713917"
     },
     "user_tz": -60
    },
    "id": "ad3gKMFGDp8L",
    "outputId": "0a599fd1-3ab4-49ee-9f28-40f8d08f4668"
   },
   "outputs": [
    {
     "name": "stdout",
     "output_type": "stream",
     "text": [
      "<class 'pandas.core.frame.DataFrame'>\n",
      "RangeIndex: 120975 entries, 0 to 120974\n",
      "Data columns (total 10 columns):\n",
      "title          120975 non-null object\n",
      "variety        120974 non-null object\n",
      "designation    86196 non-null object\n",
      "country        120916 non-null object\n",
      "province       120916 non-null object\n",
      "description    120975 non-null object\n",
      "price          120975 non-null float64\n",
      "winery         120975 non-null object\n",
      "taster_name    96479 non-null object\n",
      "points         120975 non-null int64\n",
      "dtypes: float64(1), int64(1), object(8)\n",
      "memory usage: 9.2+ MB\n"
     ]
    }
   ],
   "source": [
    "train.info()"
   ]
  },
  {
   "cell_type": "markdown",
   "metadata": {
    "colab_type": "text",
    "id": "wDE8dbv6Bokg"
   },
   "source": [
    "PLOT PRICE"
   ]
  },
  {
   "cell_type": "code",
   "execution_count": 11,
   "metadata": {
    "colab": {
     "base_uri": "https://localhost:8080/",
     "height": 407
    },
    "colab_type": "code",
    "executionInfo": {
     "elapsed": 1637,
     "status": "ok",
     "timestamp": 1582281705582,
     "user": {
      "displayName": "Lorenzo Ostano",
      "photoUrl": "https://lh3.googleusercontent.com/a-/AAuE7mDfbTrQOtVl9hqp--PC0XF8fkf5BqgmQs5iU2TvPw=s64",
      "userId": "12249114541243713917"
     },
     "user_tz": -60
    },
    "id": "asBm_OmbBmOc",
    "outputId": "c6e91455-56a8-4241-c01d-c126bba3080e"
   },
   "outputs": [
    {
     "data": {
      "text/plain": [
       "Text(0.5, 1.0, 'Log-Price Distribution')"
      ]
     },
     "execution_count": 11,
     "metadata": {
      "tags": []
     },
     "output_type": "execute_result"
    },
    {
     "data": {
      "image/png": "[encoded data removed]",
      "text/plain": [
       "<Figure size 864x432 with 2 Axes>"
      ]
     },
     "metadata": {
      "tags": []
     },
     "output_type": "display_data"
    }
   ],
   "source": [
    "import matplotlib.pyplot as plt\n",
    "\n",
    "plt.subplot(1, 2, 1)\n",
    "train['price'].hist(bins=50, figsize=(12, 6))\n",
    "plt.title('Price Distribution', fontsize=12)\n",
    "\n",
    "plt.subplot(1, 2, 2)\n",
    "np.log(train['price']).hist(bins=50, figsize=(12, 6))\n",
    "plt.title('Log-Price Distribution', fontsize=12)"
   ]
  },
  {
   "cell_type": "markdown",
   "metadata": {
    "colab_type": "text",
    "id": "lT2i21zvJU5V"
   },
   "source": [
    "**Price Outliers**"
   ]
  },
  {
   "cell_type": "code",
   "execution_count": 12,
   "metadata": {
    "colab": {
     "base_uri": "https://localhost:8080/",
     "height": 170
    },
    "colab_type": "code",
    "executionInfo": {
     "elapsed": 803,
     "status": "ok",
     "timestamp": 1582281705584,
     "user": {
      "displayName": "Lorenzo Ostano",
      "photoUrl": "https://lh3.googleusercontent.com/a-/AAuE7mDfbTrQOtVl9hqp--PC0XF8fkf5BqgmQs5iU2TvPw=s64",
      "userId": "12249114541243713917"
     },
     "user_tz": -60
    },
    "id": "5elEchKoKSJq",
    "outputId": "e7a310b9-9703-4f0f-ce5c-04568e69cb0e"
   },
   "outputs": [
    {
     "data": {
      "text/plain": [
       "count    120975.000000\n",
       "mean         35.363389\n",
       "std          41.022218\n",
       "min           4.000000\n",
       "25%          17.000000\n",
       "50%          25.000000\n",
       "75%          42.000000\n",
       "max        3300.000000\n",
       "Name: price, dtype: float64"
      ]
     },
     "execution_count": 12,
     "metadata": {
      "tags": []
     },
     "output_type": "execute_result"
    }
   ],
   "source": [
    "train.price.describe()"
   ]
  },
  {
   "cell_type": "code",
   "execution_count": 13,
   "metadata": {
    "colab": {
     "base_uri": "https://localhost:8080/",
     "height": 281
    },
    "colab_type": "code",
    "executionInfo": {
     "elapsed": 817,
     "status": "ok",
     "timestamp": 1582281706225,
     "user": {
      "displayName": "Lorenzo Ostano",
      "photoUrl": "https://lh3.googleusercontent.com/a-/AAuE7mDfbTrQOtVl9hqp--PC0XF8fkf5BqgmQs5iU2TvPw=s64",
      "userId": "12249114541243713917"
     },
     "user_tz": -60
    },
    "id": "jYuM9gzLJbBh",
    "outputId": "80624f7f-7b67-460c-d9bc-21cea4b2e604"
   },
   "outputs": [
    {
     "data": {
      "image/png": "[encoded data removed]",
      "text/plain": [
       "<Figure size 432x288 with 1 Axes>"
      ]
     },
     "metadata": {
      "tags": []
     },
     "output_type": "display_data"
    }
   ],
   "source": [
    "train = train.copy()\n",
    "train['price'] = np.log(train['price'])\n",
    "train.boxplot(column='price')\n",
    "plt.title('Price')\n",
    "plt.ylabel('price')\n",
    "plt.show()"
   ]
  },
  {
   "cell_type": "markdown",
   "metadata": {
    "colab_type": "text",
    "id": "ls-ED8IYJ0QP"
   },
   "source": [
    "There are quite a few egregious outliers. Let's remove some of them."
   ]
  },
  {
   "cell_type": "code",
   "execution_count": 0,
   "metadata": {
    "colab": {},
    "colab_type": "code",
    "id": "wbqYz7kZKuU_"
   },
   "outputs": [],
   "source": [
    "price_mean = np.mean(train.price.values)\n",
    "std_price = np.std(train.price.values)\n",
    "price_outliers = np.logical_and(train.price.values < price_mean + 3*std_price, train.price.values > price_mean - 3*std_price)"
   ]
  },
  {
   "cell_type": "code",
   "execution_count": 15,
   "metadata": {
    "colab": {
     "base_uri": "https://localhost:8080/",
     "height": 34
    },
    "colab_type": "code",
    "executionInfo": {
     "elapsed": 1421,
     "status": "ok",
     "timestamp": 1582281709826,
     "user": {
      "displayName": "Lorenzo Ostano",
      "photoUrl": "https://lh3.googleusercontent.com/a-/AAuE7mDfbTrQOtVl9hqp--PC0XF8fkf5BqgmQs5iU2TvPw=s64",
      "userId": "12249114541243713917"
     },
     "user_tz": -60
    },
    "id": "NHGBMafXL9Nb",
    "outputId": "b6469f89-78c6-40d2-a381-3898593c0ff9"
   },
   "outputs": [
    {
     "data": {
      "text/plain": [
       "array([False,  True])"
      ]
     },
     "execution_count": 15,
     "metadata": {
      "tags": []
     },
     "output_type": "execute_result"
    }
   ],
   "source": [
    "np.unique(price_outliers)"
   ]
  },
  {
   "cell_type": "code",
   "execution_count": 16,
   "metadata": {
    "colab": {
     "base_uri": "https://localhost:8080/",
     "height": 34
    },
    "colab_type": "code",
    "executionInfo": {
     "elapsed": 1076,
     "status": "ok",
     "timestamp": 1582281710147,
     "user": {
      "displayName": "Lorenzo Ostano",
      "photoUrl": "https://lh3.googleusercontent.com/a-/AAuE7mDfbTrQOtVl9hqp--PC0XF8fkf5BqgmQs5iU2TvPw=s64",
      "userId": "12249114541243713917"
     },
     "user_tz": -60
    },
    "id": "5q1jbYn0SRtv",
    "outputId": "6d5acc4d-ceea-41bc-8087-ef828591b6c3"
   },
   "outputs": [
    {
     "data": {
      "text/plain": [
       "(120975, 10)"
      ]
     },
     "execution_count": 16,
     "metadata": {
      "tags": []
     },
     "output_type": "execute_result"
    }
   ],
   "source": [
    "train.shape"
   ]
  },
  {
   "cell_type": "code",
   "execution_count": 17,
   "metadata": {
    "colab": {
     "base_uri": "https://localhost:8080/",
     "height": 34
    },
    "colab_type": "code",
    "executionInfo": {
     "elapsed": 691,
     "status": "ok",
     "timestamp": 1582281710493,
     "user": {
      "displayName": "Lorenzo Ostano",
      "photoUrl": "https://lh3.googleusercontent.com/a-/AAuE7mDfbTrQOtVl9hqp--PC0XF8fkf5BqgmQs5iU2TvPw=s64",
      "userId": "12249114541243713917"
     },
     "user_tz": -60
    },
    "id": "3CUrIq-DSIB5",
    "outputId": "0dcd2a52-7ff6-43d8-9992-095e9d1e4e07"
   },
   "outputs": [
    {
     "data": {
      "text/plain": [
       "(120186, 10)"
      ]
     },
     "execution_count": 17,
     "metadata": {
      "tags": []
     },
     "output_type": "execute_result"
    }
   ],
   "source": [
    "train = train.copy()\n",
    "train = train[price_outliers]\n",
    "train.shape"
   ]
  },
  {
   "cell_type": "markdown",
   "metadata": {
    "colab_type": "text",
    "id": "P5WR_Q3mKO5R"
   },
   "source": [
    "Replotting without outliers."
   ]
  },
  {
   "cell_type": "code",
   "execution_count": 18,
   "metadata": {
    "colab": {
     "base_uri": "https://localhost:8080/",
     "height": 281
    },
    "colab_type": "code",
    "executionInfo": {
     "elapsed": 1040,
     "status": "ok",
     "timestamp": 1582281712055,
     "user": {
      "displayName": "Lorenzo Ostano",
      "photoUrl": "https://lh3.googleusercontent.com/a-/AAuE7mDfbTrQOtVl9hqp--PC0XF8fkf5BqgmQs5iU2TvPw=s64",
      "userId": "12249114541243713917"
     },
     "user_tz": -60
    },
    "id": "axxhmjvaUOp1",
    "outputId": "7e8b16fc-6350-4f6e-9450-0f40f6601720"
   },
   "outputs": [
    {
     "data": {
      "image/png": "[encoded data removed]",
      "text/plain": [
       "<Figure size 432x288 with 1 Axes>"
      ]
     },
     "metadata": {
      "tags": []
     },
     "output_type": "display_data"
    }
   ],
   "source": [
    "train.boxplot(column='price')\n",
    "plt.title('Price')\n",
    "plt.ylabel('price')\n",
    "plt.show()"
   ]
  },
  {
   "cell_type": "markdown",
   "metadata": {
    "colab_type": "text",
    "id": "WC-kqTnDMuYW"
   },
   "source": [
    "**Relationship between values being missing and Sale Price**"
   ]
  },
  {
   "cell_type": "code",
   "execution_count": 0,
   "metadata": {
    "colab": {},
    "colab_type": "code",
    "id": "fY60F4N-Kq3I"
   },
   "outputs": [],
   "source": [
    "# make a list of the categorical variables that contain missing values\n",
    "vars_with_na = [var for var in data.columns if train[var].isnull().sum()>1]"
   ]
  },
  {
   "cell_type": "code",
   "execution_count": 20,
   "metadata": {
    "colab": {
     "base_uri": "https://localhost:8080/",
     "height": 1000
    },
    "colab_type": "code",
    "executionInfo": {
     "elapsed": 1598,
     "status": "ok",
     "timestamp": 1582281714948,
     "user": {
      "displayName": "Lorenzo Ostano",
      "photoUrl": "https://lh3.googleusercontent.com/a-/AAuE7mDfbTrQOtVl9hqp--PC0XF8fkf5BqgmQs5iU2TvPw=s64",
      "userId": "12249114541243713917"
     },
     "user_tz": -60
    },
    "id": "Jnh5udljMr4n",
    "outputId": "b7829514-641b-47ab-edb1-866c644dd9ff"
   },
   "outputs": [
    {
     "data": {
      "image/png": "[encoded data removed]",
      "text/plain": [
       "<Figure size 432x288 with 1 Axes>"
      ]
     },
     "metadata": {
      "tags": []
     },
     "output_type": "display_data"
    },
    {
     "data": {
      "image/png": "[encoded data removed]",
      "text/plain": [
       "<Figure size 432x288 with 1 Axes>"
      ]
     },
     "metadata": {
      "tags": []
     },
     "output_type": "display_data"
    },
    {
     "data": {
      "image/png": "[encoded data removed]",
      "text/plain": [
       "<Figure size 432x288 with 1 Axes>"
      ]
     },
     "metadata": {
      "tags": []
     },
     "output_type": "display_data"
    },
    {
     "data": {
      "image/png": "[encoded data removed]",
      "text/plain": [
       "<Figure size 432x288 with 1 Axes>"
      ]
     },
     "metadata": {
      "tags": []
     },
     "output_type": "display_data"
    }
   ],
   "source": [
    "def analyse_na_value(df, var):\n",
    "    df = df.copy()\n",
    "    \n",
    "    # let's make a variable that indicates 1 if the observation was missing or zero otherwise\n",
    "    df[var] = np.where(df[var].isnull(), 1, 0)\n",
    "    \n",
    "    # let's calculate the mean SalePrice where the information is missing or present\n",
    "    df.groupby(var)['price'].median().plot.bar()\n",
    "    plt.title(var)\n",
    "    plt.show()\n",
    "    \n",
    "for var in vars_with_na:\n",
    "    analyse_na_value(train, var)"
   ]
  },
  {
   "cell_type": "markdown",
   "metadata": {
    "colab_type": "text",
    "id": "cDsI2OTUEoPY"
   },
   "source": [
    "# **NUMERICAL VARIABLES**"
   ]
  },
  {
   "cell_type": "code",
   "execution_count": 21,
   "metadata": {
    "colab": {
     "base_uri": "https://localhost:8080/",
     "height": 34
    },
    "colab_type": "code",
    "executionInfo": {
     "elapsed": 851,
     "status": "ok",
     "timestamp": 1582281715416,
     "user": {
      "displayName": "Lorenzo Ostano",
      "photoUrl": "https://lh3.googleusercontent.com/a-/AAuE7mDfbTrQOtVl9hqp--PC0XF8fkf5BqgmQs5iU2TvPw=s64",
      "userId": "12249114541243713917"
     },
     "user_tz": -60
    },
    "id": "kjl_b-d-Br67",
    "outputId": "e30903d6-e1af-422a-da76-87853b4ad9b2"
   },
   "outputs": [
    {
     "data": {
      "text/plain": [
       "['price', 'points']"
      ]
     },
     "execution_count": 21,
     "metadata": {
      "tags": []
     },
     "output_type": "execute_result"
    }
   ],
   "source": [
    "# list of numerical variables\n",
    "num_vars = [var for var in train.columns if train[var].dtypes != 'O']\n",
    "num_vars"
   ]
  },
  {
   "cell_type": "markdown",
   "metadata": {
    "colab_type": "text",
    "id": "1XEzR7X8Wvg2"
   },
   "source": [
    "**Discrete Variables**"
   ]
  },
  {
   "cell_type": "code",
   "execution_count": 22,
   "metadata": {
    "colab": {
     "base_uri": "https://localhost:8080/",
     "height": 34
    },
    "colab_type": "code",
    "executionInfo": {
     "elapsed": 457,
     "status": "ok",
     "timestamp": 1582281716252,
     "user": {
      "displayName": "Lorenzo Ostano",
      "photoUrl": "https://lh3.googleusercontent.com/a-/AAuE7mDfbTrQOtVl9hqp--PC0XF8fkf5BqgmQs5iU2TvPw=s64",
      "userId": "12249114541243713917"
     },
     "user_tz": -60
    },
    "id": "UGkcEEDAWtWO",
    "outputId": "8b16e67a-81f4-4a85-9a0f-474f99164f42"
   },
   "outputs": [
    {
     "data": {
      "text/plain": [
       "[]"
      ]
     },
     "execution_count": 22,
     "metadata": {
      "tags": []
     },
     "output_type": "execute_result"
    }
   ],
   "source": [
    "#  list of discrete variables\n",
    "discrete_vars = [var for var in num_vars if len(train[var].unique())<20]\n",
    "discrete_vars"
   ]
  },
  {
   "cell_type": "code",
   "execution_count": 23,
   "metadata": {
    "colab": {
     "base_uri": "https://localhost:8080/",
     "height": 170
    },
    "colab_type": "code",
    "executionInfo": {
     "elapsed": 1102,
     "status": "ok",
     "timestamp": 1582281717578,
     "user": {
      "displayName": "Lorenzo Ostano",
      "photoUrl": "https://lh3.googleusercontent.com/a-/AAuE7mDfbTrQOtVl9hqp--PC0XF8fkf5BqgmQs5iU2TvPw=s64",
      "userId": "12249114541243713917"
     },
     "user_tz": -60
    },
    "id": "KXBO7yoXW-xx",
    "outputId": "74b8e81e-ebc9-46a4-eb76-6d40f2a17084"
   },
   "outputs": [
    {
     "data": {
      "text/plain": [
       "count    120186.000000\n",
       "mean         88.384130\n",
       "std           3.010805\n",
       "min          80.000000\n",
       "25%          86.000000\n",
       "50%          88.000000\n",
       "75%          91.000000\n",
       "max         100.000000\n",
       "Name: points, dtype: float64"
      ]
     },
     "execution_count": 23,
     "metadata": {
      "tags": []
     },
     "output_type": "execute_result"
    }
   ],
   "source": [
    "train.points.describe()"
   ]
  },
  {
   "cell_type": "code",
   "execution_count": 24,
   "metadata": {
    "colab": {
     "base_uri": "https://localhost:8080/",
     "height": 51
    },
    "colab_type": "code",
    "executionInfo": {
     "elapsed": 456,
     "status": "ok",
     "timestamp": 1582281717581,
     "user": {
      "displayName": "Lorenzo Ostano",
      "photoUrl": "https://lh3.googleusercontent.com/a-/AAuE7mDfbTrQOtVl9hqp--PC0XF8fkf5BqgmQs5iU2TvPw=s64",
      "userId": "12249114541243713917"
     },
     "user_tz": -60
    },
    "id": "X9PwJxBXXGaQ",
    "outputId": "7832ecba-baca-4f0a-be93-4863e0d0dbe2"
   },
   "outputs": [
    {
     "data": {
      "text/plain": [
       "array([ 87,  86,  85,  88,  92,  91,  90,  89,  83,  82,  81,  80,  97,\n",
       "        96,  95,  93,  94,  84,  99,  98, 100])"
      ]
     },
     "execution_count": 24,
     "metadata": {
      "tags": []
     },
     "output_type": "execute_result"
    }
   ],
   "source": [
    "train.points.unique()"
   ]
  },
  {
   "cell_type": "code",
   "execution_count": 25,
   "metadata": {
    "colab": {
     "base_uri": "https://localhost:8080/",
     "height": 111
    },
    "colab_type": "code",
    "executionInfo": {
     "elapsed": 542,
     "status": "ok",
     "timestamp": 1582281718338,
     "user": {
      "displayName": "Lorenzo Ostano",
      "photoUrl": "https://lh3.googleusercontent.com/a-/AAuE7mDfbTrQOtVl9hqp--PC0XF8fkf5BqgmQs5iU2TvPw=s64",
      "userId": "12249114541243713917"
     },
     "user_tz": -60
    },
    "id": "IWnwkhdcYhCT",
    "outputId": "4bfc0a7b-8de5-449f-ef2e-2d4432267939"
   },
   "outputs": [
    {
     "data": {
      "text/html": [
       "<div>\n",
       "<style scoped>\n",
       "    .dataframe tbody tr th:only-of-type {\n",
       "        vertical-align: middle;\n",
       "    }\n",
       "\n",
       "    .dataframe tbody tr th {\n",
       "        vertical-align: top;\n",
       "    }\n",
       "\n",
       "    .dataframe thead th {\n",
       "        text-align: right;\n",
       "    }\n",
       "</style>\n",
       "<table border=\"1\" class=\"dataframe\">\n",
       "  <thead>\n",
       "    <tr style=\"text-align: right;\">\n",
       "      <th></th>\n",
       "      <th>price</th>\n",
       "      <th>points</th>\n",
       "    </tr>\n",
       "  </thead>\n",
       "  <tbody>\n",
       "    <tr>\n",
       "      <th>price</th>\n",
       "      <td>1.000000</td>\n",
       "      <td>0.601831</td>\n",
       "    </tr>\n",
       "    <tr>\n",
       "      <th>points</th>\n",
       "      <td>0.601831</td>\n",
       "      <td>1.000000</td>\n",
       "    </tr>\n",
       "  </tbody>\n",
       "</table>\n",
       "</div>"
      ],
      "text/plain": [
       "           price    points\n",
       "price   1.000000  0.601831\n",
       "points  0.601831  1.000000"
      ]
     },
     "execution_count": 25,
     "metadata": {
      "tags": []
     },
     "output_type": "execute_result"
    }
   ],
   "source": [
    "train[num_vars].corr()"
   ]
  },
  {
   "cell_type": "code",
   "execution_count": 26,
   "metadata": {
    "colab": {
     "base_uri": "https://localhost:8080/",
     "height": 573
    },
    "colab_type": "code",
    "executionInfo": {
     "elapsed": 1437,
     "status": "ok",
     "timestamp": 1582281720102,
     "user": {
      "displayName": "Lorenzo Ostano",
      "photoUrl": "https://lh3.googleusercontent.com/a-/AAuE7mDfbTrQOtVl9hqp--PC0XF8fkf5BqgmQs5iU2TvPw=s64",
      "userId": "12249114541243713917"
     },
     "user_tz": -60
    },
    "id": "fB4BmzkGZVNn",
    "outputId": "304eb25a-1fd7-49ac-925a-64e8511fcd57"
   },
   "outputs": [
    {
     "data": {
      "image/png": "[encoded data removed]",
      "text/plain": [
       "<Figure size 432x288 with 1 Axes>"
      ]
     },
     "metadata": {
      "tags": []
     },
     "output_type": "display_data"
    },
    {
     "data": {
      "image/png": "[encoded data removed]",
      "text/plain": [
       "<Figure size 432x288 with 1 Axes>"
      ]
     },
     "metadata": {
      "tags": []
     },
     "output_type": "display_data"
    }
   ],
   "source": [
    "# Let's go ahead and analyse the distributions of these variables\n",
    "def analyse_continous(df, var):\n",
    "    df = df.copy()\n",
    "    df[var].hist(bins=20)\n",
    "    plt.ylabel('Number of wines')\n",
    "    plt.xlabel(var)\n",
    "    plt.title(var)\n",
    "    plt.show()\n",
    "    \n",
    "for var in num_vars:\n",
    "    analyse_continous(train, var)"
   ]
  },
  {
   "cell_type": "markdown",
   "metadata": {
    "colab_type": "text",
    "id": "KTsK_bKRKYlo"
   },
   "source": [
    "We notice that the numerical variables are quite well normally distributed. This will allow a linear model to fit the data well."
   ]
  },
  {
   "cell_type": "markdown",
   "metadata": {
    "colab_type": "text",
    "id": "vJCMDw_FEyRT"
   },
   "source": [
    "**Points vs. Price**"
   ]
  },
  {
   "cell_type": "code",
   "execution_count": 27,
   "metadata": {
    "colab": {
     "base_uri": "https://localhost:8080/",
     "height": 279
    },
    "colab_type": "code",
    "executionInfo": {
     "elapsed": 1926,
     "status": "ok",
     "timestamp": 1582281722578,
     "user": {
      "displayName": "Lorenzo Ostano",
      "photoUrl": "https://lh3.googleusercontent.com/a-/AAuE7mDfbTrQOtVl9hqp--PC0XF8fkf5BqgmQs5iU2TvPw=s64",
      "userId": "12249114541243713917"
     },
     "user_tz": -60
    },
    "id": "2BCBV_MjdKTU",
    "outputId": "7ec8a3ba-2e9b-4589-b3c9-ad21c191b8e0"
   },
   "outputs": [
    {
     "data": {
      "image/png": "[encoded data removed]",
      "text/plain": [
       "<Figure size 432x288 with 1 Axes>"
      ]
     },
     "metadata": {
      "tags": []
     },
     "output_type": "display_data"
    }
   ],
   "source": [
    "# let's explore the relationship between the wine price and the transformed numerical variables\n",
    "# with more detail\n",
    "def transform_analyse_continous(df, var):\n",
    "    df = df.copy()\n",
    "    \n",
    "    # log does not take negative values, so let's be careful and skip those variables\n",
    "    if 0 in train[var].unique():\n",
    "        pass\n",
    "    else:\n",
    "        # log transform\n",
    "        df[var] = np.log(df[var])\n",
    "        #df['price'] = np.log(df['price'])\n",
    "        plt.scatter(df[var], df['price'])\n",
    "        plt.ylabel('price')\n",
    "        plt.xlabel(var)\n",
    "        plt.show()\n",
    "    \n",
    "for var in num_vars:\n",
    "    if var !='price':\n",
    "        transform_analyse_continous(data, var)"
   ]
  },
  {
   "cell_type": "markdown",
   "metadata": {
    "colab_type": "text",
    "id": "pZaCAAr0KnXx"
   },
   "source": [
    "Points and price show a decent correlation between them."
   ]
  },
  {
   "cell_type": "code",
   "execution_count": 0,
   "metadata": {
    "colab": {},
    "colab_type": "code",
    "id": "-wAmqLjdFO_D"
   },
   "outputs": [],
   "source": [
    "import seaborn as sns"
   ]
  },
  {
   "cell_type": "code",
   "execution_count": 29,
   "metadata": {
    "colab": {
     "base_uri": "https://localhost:8080/",
     "height": 296
    },
    "colab_type": "code",
    "executionInfo": {
     "elapsed": 1411,
     "status": "ok",
     "timestamp": 1582281724110,
     "user": {
      "displayName": "Lorenzo Ostano",
      "photoUrl": "https://lh3.googleusercontent.com/a-/AAuE7mDfbTrQOtVl9hqp--PC0XF8fkf5BqgmQs5iU2TvPw=s64",
      "userId": "12249114541243713917"
     },
     "user_tz": -60
    },
    "id": "kWKsMY6GExK6",
    "outputId": "f2445f16-94e5-47fb-ff2b-7bc718500339"
   },
   "outputs": [
    {
     "data": {
      "text/plain": [
       "<matplotlib.axes._subplots.AxesSubplot at 0x7f5521d763c8>"
      ]
     },
     "execution_count": 29,
     "metadata": {
      "tags": []
     },
     "output_type": "execute_result"
    },
    {
     "data": {
      "image/png": "[encoded data removed]",
      "text/plain": [
       "<Figure size 432x288 with 1 Axes>"
      ]
     },
     "metadata": {
      "tags": []
     },
     "output_type": "display_data"
    }
   ],
   "source": [
    "sns.boxplot(x = 'points', y = train['price'], data = train, palette = sns.color_palette('RdBu',5))"
   ]
  },
  {
   "cell_type": "markdown",
   "metadata": {
    "colab_type": "text",
    "id": "nwl55gXsKwMf"
   },
   "source": [
    "Another visual proof of correlation between price and points."
   ]
  },
  {
   "cell_type": "markdown",
   "metadata": {
    "colab_type": "text",
    "id": "sPrE7nYcd4HW"
   },
   "source": [
    "**CATEGORICAL VARIABLES**"
   ]
  },
  {
   "cell_type": "code",
   "execution_count": 30,
   "metadata": {
    "colab": {
     "base_uri": "https://localhost:8080/",
     "height": 153
    },
    "colab_type": "code",
    "executionInfo": {
     "elapsed": 670,
     "status": "ok",
     "timestamp": 1582281725772,
     "user": {
      "displayName": "Lorenzo Ostano",
      "photoUrl": "https://lh3.googleusercontent.com/a-/AAuE7mDfbTrQOtVl9hqp--PC0XF8fkf5BqgmQs5iU2TvPw=s64",
      "userId": "12249114541243713917"
     },
     "user_tz": -60
    },
    "id": "sSdIURUXd3HJ",
    "outputId": "67d35bd9-20e7-4768-bd88-fc5ea1214a28"
   },
   "outputs": [
    {
     "data": {
      "text/plain": [
       "['title',\n",
       " 'variety',\n",
       " 'designation',\n",
       " 'country',\n",
       " 'province',\n",
       " 'description',\n",
       " 'winery',\n",
       " 'taster_name']"
      ]
     },
     "execution_count": 30,
     "metadata": {
      "tags": []
     },
     "output_type": "execute_result"
    }
   ],
   "source": [
    "### Categorical variables\n",
    "\n",
    "cat_vars = [var for var in train.columns if train[var].dtypes=='O']\n",
    "cat_vars"
   ]
  },
  {
   "cell_type": "code",
   "execution_count": 31,
   "metadata": {
    "colab": {
     "base_uri": "https://localhost:8080/",
     "height": 204
    },
    "colab_type": "code",
    "executionInfo": {
     "elapsed": 479,
     "status": "ok",
     "timestamp": 1582281726911,
     "user": {
      "displayName": "Lorenzo Ostano",
      "photoUrl": "https://lh3.googleusercontent.com/a-/AAuE7mDfbTrQOtVl9hqp--PC0XF8fkf5BqgmQs5iU2TvPw=s64",
      "userId": "12249114541243713917"
     },
     "user_tz": -60
    },
    "id": "DkNU2tnaeIB6",
    "outputId": "4ae2b5c7-64a1-4e2e-a260-47c6e075addc"
   },
   "outputs": [
    {
     "data": {
      "text/html": [
       "<div>\n",
       "<style scoped>\n",
       "    .dataframe tbody tr th:only-of-type {\n",
       "        vertical-align: middle;\n",
       "    }\n",
       "\n",
       "    .dataframe tbody tr th {\n",
       "        vertical-align: top;\n",
       "    }\n",
       "\n",
       "    .dataframe thead th {\n",
       "        text-align: right;\n",
       "    }\n",
       "</style>\n",
       "<table border=\"1\" class=\"dataframe\">\n",
       "  <thead>\n",
       "    <tr style=\"text-align: right;\">\n",
       "      <th></th>\n",
       "      <th>title</th>\n",
       "      <th>variety</th>\n",
       "      <th>designation</th>\n",
       "      <th>country</th>\n",
       "      <th>province</th>\n",
       "      <th>description</th>\n",
       "      <th>winery</th>\n",
       "      <th>taster_name</th>\n",
       "    </tr>\n",
       "  </thead>\n",
       "  <tbody>\n",
       "    <tr>\n",
       "      <th>0</th>\n",
       "      <td>Quinta dos Avidagos 2011 Avidagos Red (Douro)</td>\n",
       "      <td>Portuguese Red</td>\n",
       "      <td>Avidagos</td>\n",
       "      <td>Portugal</td>\n",
       "      <td>Douro</td>\n",
       "      <td>This is ripe and fruity, a wine that is smooth...</td>\n",
       "      <td>Quinta dos Avidagos</td>\n",
       "      <td>Roger Voss</td>\n",
       "    </tr>\n",
       "    <tr>\n",
       "      <th>1</th>\n",
       "      <td>Rainstorm 2013 Pinot Gris (Willamette Valley)</td>\n",
       "      <td>Pinot Gris</td>\n",
       "      <td>NaN</td>\n",
       "      <td>US</td>\n",
       "      <td>Oregon</td>\n",
       "      <td>Tart and snappy, the flavors of lime flesh and...</td>\n",
       "      <td>Rainstorm</td>\n",
       "      <td>Paul Gregutt</td>\n",
       "    </tr>\n",
       "    <tr>\n",
       "      <th>2</th>\n",
       "      <td>St. Julian 2013 Reserve Late Harvest Riesling ...</td>\n",
       "      <td>Riesling</td>\n",
       "      <td>Reserve Late Harvest</td>\n",
       "      <td>US</td>\n",
       "      <td>Michigan</td>\n",
       "      <td>Pineapple rind, lemon pith and orange blossom ...</td>\n",
       "      <td>St. Julian</td>\n",
       "      <td>Alexander Peartree</td>\n",
       "    </tr>\n",
       "    <tr>\n",
       "      <th>3</th>\n",
       "      <td>Sweet Cheeks 2012 Vintner's Reserve Wild Child...</td>\n",
       "      <td>Pinot Noir</td>\n",
       "      <td>Vintner's Reserve Wild Child Block</td>\n",
       "      <td>US</td>\n",
       "      <td>Oregon</td>\n",
       "      <td>Much like the regular bottling from 2012, this...</td>\n",
       "      <td>Sweet Cheeks</td>\n",
       "      <td>Paul Gregutt</td>\n",
       "    </tr>\n",
       "    <tr>\n",
       "      <th>4</th>\n",
       "      <td>Tandem 2011 Ars In Vitro Tempranillo-Merlot (N...</td>\n",
       "      <td>Tempranillo-Merlot</td>\n",
       "      <td>Ars In Vitro</td>\n",
       "      <td>Spain</td>\n",
       "      <td>Northern Spain</td>\n",
       "      <td>Blackberry and raspberry aromas show a typical...</td>\n",
       "      <td>Tandem</td>\n",
       "      <td>Michael Schachner</td>\n",
       "    </tr>\n",
       "  </tbody>\n",
       "</table>\n",
       "</div>"
      ],
      "text/plain": [
       "                                               title  ...         taster_name\n",
       "0      Quinta dos Avidagos 2011 Avidagos Red (Douro)  ...          Roger Voss\n",
       "1      Rainstorm 2013 Pinot Gris (Willamette Valley)  ...        Paul Gregutt\n",
       "2  St. Julian 2013 Reserve Late Harvest Riesling ...  ...  Alexander Peartree\n",
       "3  Sweet Cheeks 2012 Vintner's Reserve Wild Child...  ...        Paul Gregutt\n",
       "4  Tandem 2011 Ars In Vitro Tempranillo-Merlot (N...  ...   Michael Schachner\n",
       "\n",
       "[5 rows x 8 columns]"
      ]
     },
     "execution_count": 31,
     "metadata": {
      "tags": []
     },
     "output_type": "execute_result"
    }
   ],
   "source": [
    "# let's visualise the values of the categorical variables\n",
    "train[cat_vars].head()"
   ]
  },
  {
   "cell_type": "markdown",
   "metadata": {
    "colab_type": "text",
    "id": "jnKhR7Q4eQ4-"
   },
   "source": [
    "**Number of labels: cardinality**"
   ]
  },
  {
   "cell_type": "markdown",
   "metadata": {
    "colab_type": "text",
    "id": "fQdvwIrreXGH"
   },
   "source": [
    "Let's evaluate how many different categories are present in each of the variables."
   ]
  },
  {
   "cell_type": "code",
   "execution_count": 32,
   "metadata": {
    "colab": {
     "base_uri": "https://localhost:8080/",
     "height": 153
    },
    "colab_type": "code",
    "executionInfo": {
     "elapsed": 648,
     "status": "ok",
     "timestamp": 1582281730043,
     "user": {
      "displayName": "Lorenzo Ostano",
      "photoUrl": "https://lh3.googleusercontent.com/a-/AAuE7mDfbTrQOtVl9hqp--PC0XF8fkf5BqgmQs5iU2TvPw=s64",
      "userId": "12249114541243713917"
     },
     "user_tz": -60
    },
    "id": "DdGzPR4FeZrQ",
    "outputId": "f15b245c-5c12-4ee1-e752-6c2201b0dc14"
   },
   "outputs": [
    {
     "name": "stdout",
     "output_type": "stream",
     "text": [
      "title 109883  categories\n",
      "variety 696  categories\n",
      "designation 35553  categories\n",
      "country 43  categories\n",
      "province 423  categories\n",
      "description 110798  categories\n",
      "winery 15816  categories\n",
      "taster_name 20  categories\n"
     ]
    }
   ],
   "source": [
    "for var in cat_vars:\n",
    "    print(var, len(train[var].unique()), ' categories')"
   ]
  },
  {
   "cell_type": "markdown",
   "metadata": {
    "colab_type": "text",
    "id": "o9L2Npv69aYJ"
   },
   "source": [
    "**Wine varieties**"
   ]
  },
  {
   "cell_type": "code",
   "execution_count": 33,
   "metadata": {
    "colab": {
     "base_uri": "https://localhost:8080/",
     "height": 34
    },
    "colab_type": "code",
    "executionInfo": {
     "elapsed": 803,
     "status": "ok",
     "timestamp": 1582281732556,
     "user": {
      "displayName": "Lorenzo Ostano",
      "photoUrl": "https://lh3.googleusercontent.com/a-/AAuE7mDfbTrQOtVl9hqp--PC0XF8fkf5BqgmQs5iU2TvPw=s64",
      "userId": "12249114541243713917"
     },
     "user_tz": -60
    },
    "id": "agupC86lE4zL",
    "outputId": "6a09b61e-e892-46fa-c138-261499f65509"
   },
   "outputs": [
    {
     "name": "stdout",
     "output_type": "stream",
     "text": [
      "There are 695 unique values in variety column\n"
     ]
    }
   ],
   "source": [
    "print('There are', train['variety'].nunique(), 'unique values in variety column')"
   ]
  },
  {
   "cell_type": "markdown",
   "metadata": {
    "colab_type": "text",
    "id": "pCHZWUCc99lq"
   },
   "source": [
    "Top 10 most common category names:"
   ]
  },
  {
   "cell_type": "code",
   "execution_count": 34,
   "metadata": {
    "colab": {
     "base_uri": "https://localhost:8080/",
     "height": 204
    },
    "colab_type": "code",
    "executionInfo": {
     "elapsed": 647,
     "status": "ok",
     "timestamp": 1582281734947,
     "user": {
      "displayName": "Lorenzo Ostano",
      "photoUrl": "https://lh3.googleusercontent.com/a-/AAuE7mDfbTrQOtVl9hqp--PC0XF8fkf5BqgmQs5iU2TvPw=s64",
      "userId": "12249114541243713917"
     },
     "user_tz": -60
    },
    "id": "Ke1RZ7NU92tL",
    "outputId": "79043370-589c-4f7b-a5a6-c9cb99e9bc79"
   },
   "outputs": [
    {
     "data": {
      "text/plain": [
       "Pinot Noir                  12657\n",
       "Chardonnay                  11006\n",
       "Cabernet Sauvignon           9281\n",
       "Red Blend                    8431\n",
       "Bordeaux-style Red Blend     5240\n",
       "Riesling                     4921\n",
       "Sauvignon Blanc              4783\n",
       "Syrah                        4071\n",
       "Rosé                         3261\n",
       "Merlot                       3041\n",
       "Name: variety, dtype: int64"
      ]
     },
     "execution_count": 34,
     "metadata": {
      "tags": []
     },
     "output_type": "execute_result"
    }
   ],
   "source": [
    "train['variety'].value_counts()[:10]"
   ]
  },
  {
   "cell_type": "markdown",
   "metadata": {
    "colab_type": "text",
    "id": "nj0BjBXULBAm"
   },
   "source": [
    "# **Preprocess the data**\n",
    "\n",
    "We will turn strings and categorical data into numbers.\n",
    "This is necessary to feed the data to a machine learning model to estimate the price."
   ]
  },
  {
   "cell_type": "markdown",
   "metadata": {
    "colab_type": "text",
    "id": "GYzc2IJ1E9p3"
   },
   "source": [
    "**Replace Missing Values**"
   ]
  },
  {
   "cell_type": "code",
   "execution_count": 0,
   "metadata": {
    "colab": {},
    "colab_type": "code",
    "id": "dG78Ec0h-CFE"
   },
   "outputs": [],
   "source": [
    "# make a list of the categorical variables that contain missing values\n",
    "vars_with_na = [var for var in train.columns if train[var].isnull().sum()>1 and train[var].dtypes=='O']"
   ]
  },
  {
   "cell_type": "code",
   "execution_count": 36,
   "metadata": {
    "colab": {
     "base_uri": "https://localhost:8080/",
     "height": 85
    },
    "colab_type": "code",
    "executionInfo": {
     "elapsed": 353,
     "status": "ok",
     "timestamp": 1582281737175,
     "user": {
      "displayName": "Lorenzo Ostano",
      "photoUrl": "https://lh3.googleusercontent.com/a-/AAuE7mDfbTrQOtVl9hqp--PC0XF8fkf5BqgmQs5iU2TvPw=s64",
      "userId": "12249114541243713917"
     },
     "user_tz": -60
    },
    "id": "qa7ncWOSRiiU",
    "outputId": "c1542d73-5b2d-48d8-be21-f9f9cdaa2c8a"
   },
   "outputs": [
    {
     "name": "stdout",
     "output_type": "stream",
     "text": [
      "designation 0.287  % missing values\n",
      "country 0.0  % missing values\n",
      "province 0.0  % missing values\n",
      "taster_name 0.203  % missing values\n"
     ]
    }
   ],
   "source": [
    "# print the variable name and the percentage of missing values\n",
    "for var in vars_with_na:\n",
    "    print(var, np.round(train[var].isnull().mean(), 3),  ' % missing values')"
   ]
  },
  {
   "cell_type": "code",
   "execution_count": 0,
   "metadata": {
    "colab": {},
    "colab_type": "code",
    "id": "6I7E3-YcRkEj"
   },
   "outputs": [],
   "source": [
    "# function to replace NA in categorical variables\n",
    "def fill_categorical_na(df, var_list):\n",
    "    X = df.copy()\n",
    "    X[var_list] = df[var_list].fillna('Missing')\n",
    "    return X"
   ]
  },
  {
   "cell_type": "code",
   "execution_count": 38,
   "metadata": {
    "colab": {
     "base_uri": "https://localhost:8080/",
     "height": 102
    },
    "colab_type": "code",
    "executionInfo": {
     "elapsed": 924,
     "status": "ok",
     "timestamp": 1582281739109,
     "user": {
      "displayName": "Lorenzo Ostano",
      "photoUrl": "https://lh3.googleusercontent.com/a-/AAuE7mDfbTrQOtVl9hqp--PC0XF8fkf5BqgmQs5iU2TvPw=s64",
      "userId": "12249114541243713917"
     },
     "user_tz": -60
    },
    "id": "vPdOMmlFR76F",
    "outputId": "87521132-1355-49aa-dc5f-e26eeb002711"
   },
   "outputs": [
    {
     "data": {
      "text/plain": [
       "designation    0\n",
       "country        0\n",
       "province       0\n",
       "taster_name    0\n",
       "dtype: int64"
      ]
     },
     "execution_count": 38,
     "metadata": {
      "tags": []
     },
     "output_type": "execute_result"
    }
   ],
   "source": [
    "# replace missing values with new label: \"Missing\"\n",
    "train = fill_categorical_na(train, vars_with_na)\n",
    "test2 = fill_categorical_na(test, vars_with_na)\n",
    "\n",
    "# check that we have no missing information in the engineered variables\n",
    "train[vars_with_na].isnull().sum()"
   ]
  },
  {
   "cell_type": "code",
   "execution_count": 0,
   "metadata": {
    "colab": {},
    "colab_type": "code",
    "id": "zmyclwO2UKzE"
   },
   "outputs": [],
   "source": [
    "# def to_categorical(dataset):\n",
    "#     dataset['designation'] = dataset['designation'].astype('category')\n",
    "#     dataset['country'] = dataset['country'].astype('category')\n",
    "#     dataset['province'] = dataset['province'].astype('category')\n",
    "#     dataset['taster_name'] = dataset['taster_name'].astype('category')"
   ]
  },
  {
   "cell_type": "code",
   "execution_count": 0,
   "metadata": {
    "colab": {},
    "colab_type": "code",
    "id": "9JymiMpiU0_1"
   },
   "outputs": [],
   "source": [
    "# to_categorical(train)\n",
    "# to_categorical(test)"
   ]
  },
  {
   "cell_type": "markdown",
   "metadata": {
    "colab_type": "text",
    "id": "0zvAg7jIST4A"
   },
   "source": [
    "**Feature Scaling**\n",
    "\n",
    "We do this for the only numerical feature: Points."
   ]
  },
  {
   "cell_type": "code",
   "execution_count": 0,
   "metadata": {
    "colab": {},
    "colab_type": "code",
    "id": "YjRfEIg3SK3C"
   },
   "outputs": [],
   "source": [
    "train['points'] /= train['points'].max()"
   ]
  },
  {
   "cell_type": "code",
   "execution_count": 0,
   "metadata": {
    "colab": {},
    "colab_type": "code",
    "id": "SOQpVLAyLd2u"
   },
   "outputs": [],
   "source": [
    "test2['points'] /= test2['points'].max()"
   ]
  },
  {
   "cell_type": "code",
   "execution_count": 43,
   "metadata": {
    "colab": {
     "base_uri": "https://localhost:8080/",
     "height": 359
    },
    "colab_type": "code",
    "executionInfo": {
     "elapsed": 714,
     "status": "ok",
     "timestamp": 1582281745194,
     "user": {
      "displayName": "Lorenzo Ostano",
      "photoUrl": "https://lh3.googleusercontent.com/a-/AAuE7mDfbTrQOtVl9hqp--PC0XF8fkf5BqgmQs5iU2TvPw=s64",
      "userId": "12249114541243713917"
     },
     "user_tz": -60
    },
    "id": "cUeQHfJOWDdl",
    "outputId": "233838ad-8b8f-4827-8aa1-6bcfe830ce2f"
   },
   "outputs": [
    {
     "data": {
      "text/html": [
       "<div>\n",
       "<style scoped>\n",
       "    .dataframe tbody tr th:only-of-type {\n",
       "        vertical-align: middle;\n",
       "    }\n",
       "\n",
       "    .dataframe tbody tr th {\n",
       "        vertical-align: top;\n",
       "    }\n",
       "\n",
       "    .dataframe thead th {\n",
       "        text-align: right;\n",
       "    }\n",
       "</style>\n",
       "<table border=\"1\" class=\"dataframe\">\n",
       "  <thead>\n",
       "    <tr style=\"text-align: right;\">\n",
       "      <th></th>\n",
       "      <th>title</th>\n",
       "      <th>variety</th>\n",
       "      <th>designation</th>\n",
       "      <th>country</th>\n",
       "      <th>province</th>\n",
       "      <th>description</th>\n",
       "      <th>price</th>\n",
       "      <th>winery</th>\n",
       "      <th>taster_name</th>\n",
       "      <th>points</th>\n",
       "    </tr>\n",
       "  </thead>\n",
       "  <tbody>\n",
       "    <tr>\n",
       "      <th>0</th>\n",
       "      <td>Quinta dos Avidagos 2011 Avidagos Red (Douro)</td>\n",
       "      <td>Portuguese Red</td>\n",
       "      <td>Avidagos</td>\n",
       "      <td>Portugal</td>\n",
       "      <td>Douro</td>\n",
       "      <td>This is ripe and fruity, a wine that is smooth...</td>\n",
       "      <td>2.708050</td>\n",
       "      <td>Quinta dos Avidagos</td>\n",
       "      <td>Roger Voss</td>\n",
       "      <td>0.87</td>\n",
       "    </tr>\n",
       "    <tr>\n",
       "      <th>1</th>\n",
       "      <td>Rainstorm 2013 Pinot Gris (Willamette Valley)</td>\n",
       "      <td>Pinot Gris</td>\n",
       "      <td>Missing</td>\n",
       "      <td>US</td>\n",
       "      <td>Oregon</td>\n",
       "      <td>Tart and snappy, the flavors of lime flesh and...</td>\n",
       "      <td>2.639057</td>\n",
       "      <td>Rainstorm</td>\n",
       "      <td>Paul Gregutt</td>\n",
       "      <td>0.87</td>\n",
       "    </tr>\n",
       "    <tr>\n",
       "      <th>2</th>\n",
       "      <td>St. Julian 2013 Reserve Late Harvest Riesling ...</td>\n",
       "      <td>Riesling</td>\n",
       "      <td>Reserve Late Harvest</td>\n",
       "      <td>US</td>\n",
       "      <td>Michigan</td>\n",
       "      <td>Pineapple rind, lemon pith and orange blossom ...</td>\n",
       "      <td>2.564949</td>\n",
       "      <td>St. Julian</td>\n",
       "      <td>Alexander Peartree</td>\n",
       "      <td>0.87</td>\n",
       "    </tr>\n",
       "    <tr>\n",
       "      <th>3</th>\n",
       "      <td>Sweet Cheeks 2012 Vintner's Reserve Wild Child...</td>\n",
       "      <td>Pinot Noir</td>\n",
       "      <td>Vintner's Reserve Wild Child Block</td>\n",
       "      <td>US</td>\n",
       "      <td>Oregon</td>\n",
       "      <td>Much like the regular bottling from 2012, this...</td>\n",
       "      <td>4.174387</td>\n",
       "      <td>Sweet Cheeks</td>\n",
       "      <td>Paul Gregutt</td>\n",
       "      <td>0.87</td>\n",
       "    </tr>\n",
       "    <tr>\n",
       "      <th>4</th>\n",
       "      <td>Tandem 2011 Ars In Vitro Tempranillo-Merlot (N...</td>\n",
       "      <td>Tempranillo-Merlot</td>\n",
       "      <td>Ars In Vitro</td>\n",
       "      <td>Spain</td>\n",
       "      <td>Northern Spain</td>\n",
       "      <td>Blackberry and raspberry aromas show a typical...</td>\n",
       "      <td>2.708050</td>\n",
       "      <td>Tandem</td>\n",
       "      <td>Michael Schachner</td>\n",
       "      <td>0.87</td>\n",
       "    </tr>\n",
       "    <tr>\n",
       "      <th>5</th>\n",
       "      <td>Terre di Giurfo 2013 Belsito Frappato (Vittoria)</td>\n",
       "      <td>Frappato</td>\n",
       "      <td>Belsito</td>\n",
       "      <td>Italy</td>\n",
       "      <td>Sicily &amp; Sardinia</td>\n",
       "      <td>Here's a bright, informal red that opens with ...</td>\n",
       "      <td>2.772589</td>\n",
       "      <td>Terre di Giurfo</td>\n",
       "      <td>Kerin O’Keefe</td>\n",
       "      <td>0.87</td>\n",
       "    </tr>\n",
       "    <tr>\n",
       "      <th>6</th>\n",
       "      <td>Trimbach 2012 Gewurztraminer (Alsace)</td>\n",
       "      <td>Gewürztraminer</td>\n",
       "      <td>Missing</td>\n",
       "      <td>France</td>\n",
       "      <td>Alsace</td>\n",
       "      <td>This dry and restrained wine offers spice in p...</td>\n",
       "      <td>3.178054</td>\n",
       "      <td>Trimbach</td>\n",
       "      <td>Roger Voss</td>\n",
       "      <td>0.87</td>\n",
       "    </tr>\n",
       "    <tr>\n",
       "      <th>7</th>\n",
       "      <td>Heinz Eifel 2013 Shine Gewürztraminer (Rheinhe...</td>\n",
       "      <td>Gewürztraminer</td>\n",
       "      <td>Shine</td>\n",
       "      <td>Germany</td>\n",
       "      <td>Rheinhessen</td>\n",
       "      <td>Savory dried thyme notes accent sunnier flavor...</td>\n",
       "      <td>2.484907</td>\n",
       "      <td>Heinz Eifel</td>\n",
       "      <td>Anna Lee C. Iijima</td>\n",
       "      <td>0.87</td>\n",
       "    </tr>\n",
       "    <tr>\n",
       "      <th>8</th>\n",
       "      <td>Jean-Baptiste Adam 2012 Les Natures Pinot Gris...</td>\n",
       "      <td>Pinot Gris</td>\n",
       "      <td>Les Natures</td>\n",
       "      <td>France</td>\n",
       "      <td>Alsace</td>\n",
       "      <td>This has great depth of flavor with its fresh ...</td>\n",
       "      <td>3.295837</td>\n",
       "      <td>Jean-Baptiste Adam</td>\n",
       "      <td>Roger Voss</td>\n",
       "      <td>0.87</td>\n",
       "    </tr>\n",
       "    <tr>\n",
       "      <th>9</th>\n",
       "      <td>Kirkland Signature 2011 Mountain Cuvée Caberne...</td>\n",
       "      <td>Cabernet Sauvignon</td>\n",
       "      <td>Mountain Cuvée</td>\n",
       "      <td>US</td>\n",
       "      <td>California</td>\n",
       "      <td>Soft, supple plum envelopes an oaky structure ...</td>\n",
       "      <td>2.944439</td>\n",
       "      <td>Kirkland Signature</td>\n",
       "      <td>Virginie Boone</td>\n",
       "      <td>0.87</td>\n",
       "    </tr>\n",
       "  </tbody>\n",
       "</table>\n",
       "</div>"
      ],
      "text/plain": [
       "                                               title  ... points\n",
       "0      Quinta dos Avidagos 2011 Avidagos Red (Douro)  ...   0.87\n",
       "1      Rainstorm 2013 Pinot Gris (Willamette Valley)  ...   0.87\n",
       "2  St. Julian 2013 Reserve Late Harvest Riesling ...  ...   0.87\n",
       "3  Sweet Cheeks 2012 Vintner's Reserve Wild Child...  ...   0.87\n",
       "4  Tandem 2011 Ars In Vitro Tempranillo-Merlot (N...  ...   0.87\n",
       "5   Terre di Giurfo 2013 Belsito Frappato (Vittoria)  ...   0.87\n",
       "6              Trimbach 2012 Gewurztraminer (Alsace)  ...   0.87\n",
       "7  Heinz Eifel 2013 Shine Gewürztraminer (Rheinhe...  ...   0.87\n",
       "8  Jean-Baptiste Adam 2012 Les Natures Pinot Gris...  ...   0.87\n",
       "9  Kirkland Signature 2011 Mountain Cuvée Caberne...  ...   0.87\n",
       "\n",
       "[10 rows x 10 columns]"
      ]
     },
     "execution_count": 43,
     "metadata": {
      "tags": []
     },
     "output_type": "execute_result"
    }
   ],
   "source": [
    "train.head(10)"
   ]
  },
  {
   "cell_type": "markdown",
   "metadata": {
    "colab_type": "text",
    "id": "Smi0-YSCZE9i"
   },
   "source": [
    "**Transform categorical variables**"
   ]
  },
  {
   "cell_type": "code",
   "execution_count": 44,
   "metadata": {
    "colab": {
     "base_uri": "https://localhost:8080/",
     "height": 34
    },
    "colab_type": "code",
    "executionInfo": {
     "elapsed": 626,
     "status": "ok",
     "timestamp": 1582281746706,
     "user": {
      "displayName": "Lorenzo Ostano",
      "photoUrl": "https://lh3.googleusercontent.com/a-/AAuE7mDfbTrQOtVl9hqp--PC0XF8fkf5BqgmQs5iU2TvPw=s64",
      "userId": "12249114541243713917"
     },
     "user_tz": -60
    },
    "id": "CUqs6r8GIWLf",
    "outputId": "d151736e-33be-40c6-ebdf-e9d2e04e5501"
   },
   "outputs": [
    {
     "data": {
      "text/plain": [
       "['variety', 'designation', 'country', 'province', 'winery', 'taster_name']"
      ]
     },
     "execution_count": 44,
     "metadata": {
      "tags": []
     },
     "output_type": "execute_result"
    }
   ],
   "source": [
    "cat_vars = [var for var in train.columns if train[var].dtypes=='O' and var not in ['title','description']]\n",
    "cat_vars"
   ]
  },
  {
   "cell_type": "code",
   "execution_count": 0,
   "metadata": {
    "colab": {},
    "colab_type": "code",
    "id": "HZcAGq32SniA"
   },
   "outputs": [],
   "source": [
    "def find_frequent_labels(df, var, rare_perc):\n",
    "    # finds the labels that are shared by more than a certain % of the houses in the dataset\n",
    "    df = df.copy()\n",
    "    tmp = df.groupby(var)['price'].count() / len(df)\n",
    "    return tmp[tmp>rare_perc].index\n",
    "\n",
    "for var in cat_vars:\n",
    "    frequent_ls = find_frequent_labels(train, var, 0.01)\n",
    "    train[var] = np.where(train[var].isin(frequent_ls), train[var], 'Rare')\n",
    "    test2[var] = np.where(test2[var].isin(frequent_ls), test2[var], 'Rare')"
   ]
  },
  {
   "cell_type": "code",
   "execution_count": 0,
   "metadata": {
    "colab": {},
    "colab_type": "code",
    "id": "rZ4cf-rBSv2V"
   },
   "outputs": [],
   "source": [
    "# this function will assign discrete values to the strings of the variables, \n",
    "# so that the smaller value corresponds to the smaller mean of target\n",
    "\n",
    "def replace_categories(train, test, var, target):\n",
    "    ordered_labels = train.groupby([var])[target].mean().sort_values().index\n",
    "    ordinal_label = {k:i for i, k in enumerate(ordered_labels, 0)} \n",
    "    train[var] = train[var].map(ordinal_label)\n",
    "    test2[var] = test2[var].map(ordinal_label)"
   ]
  },
  {
   "cell_type": "code",
   "execution_count": 0,
   "metadata": {
    "colab": {},
    "colab_type": "code",
    "id": "AGMiIYOfS2UN"
   },
   "outputs": [],
   "source": [
    "for var in cat_vars:\n",
    "    replace_categories(train, test2, var, 'price')"
   ]
  },
  {
   "cell_type": "code",
   "execution_count": 48,
   "metadata": {
    "colab": {
     "base_uri": "https://localhost:8080/",
     "height": 204
    },
    "colab_type": "code",
    "executionInfo": {
     "elapsed": 569,
     "status": "ok",
     "timestamp": 1582281751950,
     "user": {
      "displayName": "Lorenzo Ostano",
      "photoUrl": "https://lh3.googleusercontent.com/a-/AAuE7mDfbTrQOtVl9hqp--PC0XF8fkf5BqgmQs5iU2TvPw=s64",
      "userId": "12249114541243713917"
     },
     "user_tz": -60
    },
    "id": "rcqVYlgHGhoO",
    "outputId": "3a2062d9-adf0-4dec-83b6-13daf32a923f"
   },
   "outputs": [
    {
     "data": {
      "text/html": [
       "<div>\n",
       "<style scoped>\n",
       "    .dataframe tbody tr th:only-of-type {\n",
       "        vertical-align: middle;\n",
       "    }\n",
       "\n",
       "    .dataframe tbody tr th {\n",
       "        vertical-align: top;\n",
       "    }\n",
       "\n",
       "    .dataframe thead th {\n",
       "        text-align: right;\n",
       "    }\n",
       "</style>\n",
       "<table border=\"1\" class=\"dataframe\">\n",
       "  <thead>\n",
       "    <tr style=\"text-align: right;\">\n",
       "      <th></th>\n",
       "      <th>title</th>\n",
       "      <th>variety</th>\n",
       "      <th>designation</th>\n",
       "      <th>country</th>\n",
       "      <th>province</th>\n",
       "      <th>description</th>\n",
       "      <th>price</th>\n",
       "      <th>winery</th>\n",
       "      <th>taster_name</th>\n",
       "      <th>points</th>\n",
       "    </tr>\n",
       "  </thead>\n",
       "  <tbody>\n",
       "    <tr>\n",
       "      <th>0</th>\n",
       "      <td>Quinta dos Avidagos 2011 Avidagos Red (Douro)</td>\n",
       "      <td>2</td>\n",
       "      <td>2</td>\n",
       "      <td>1</td>\n",
       "      <td>3</td>\n",
       "      <td>This is ripe and fruity, a wine that is smooth...</td>\n",
       "      <td>2.708050</td>\n",
       "      <td>0</td>\n",
       "      <td>5</td>\n",
       "      <td>0.87</td>\n",
       "    </tr>\n",
       "    <tr>\n",
       "      <th>1</th>\n",
       "      <td>Rainstorm 2013 Pinot Gris (Willamette Valley)</td>\n",
       "      <td>4</td>\n",
       "      <td>1</td>\n",
       "      <td>12</td>\n",
       "      <td>13</td>\n",
       "      <td>Tart and snappy, the flavors of lime flesh and...</td>\n",
       "      <td>2.639057</td>\n",
       "      <td>0</td>\n",
       "      <td>9</td>\n",
       "      <td>0.87</td>\n",
       "    </tr>\n",
       "    <tr>\n",
       "      <th>2</th>\n",
       "      <td>St. Julian 2013 Reserve Late Harvest Riesling ...</td>\n",
       "      <td>9</td>\n",
       "      <td>2</td>\n",
       "      <td>12</td>\n",
       "      <td>3</td>\n",
       "      <td>Pineapple rind, lemon pith and orange blossom ...</td>\n",
       "      <td>2.564949</td>\n",
       "      <td>0</td>\n",
       "      <td>2</td>\n",
       "      <td>0.87</td>\n",
       "    </tr>\n",
       "    <tr>\n",
       "      <th>3</th>\n",
       "      <td>Sweet Cheeks 2012 Vintner's Reserve Wild Child...</td>\n",
       "      <td>20</td>\n",
       "      <td>2</td>\n",
       "      <td>12</td>\n",
       "      <td>13</td>\n",
       "      <td>Much like the regular bottling from 2012, this...</td>\n",
       "      <td>4.174387</td>\n",
       "      <td>0</td>\n",
       "      <td>9</td>\n",
       "      <td>0.87</td>\n",
       "    </tr>\n",
       "    <tr>\n",
       "      <th>4</th>\n",
       "      <td>Tandem 2011 Ars In Vitro Tempranillo-Merlot (N...</td>\n",
       "      <td>7</td>\n",
       "      <td>2</td>\n",
       "      <td>4</td>\n",
       "      <td>4</td>\n",
       "      <td>Blackberry and raspberry aromas show a typical...</td>\n",
       "      <td>2.708050</td>\n",
       "      <td>0</td>\n",
       "      <td>0</td>\n",
       "      <td>0.87</td>\n",
       "    </tr>\n",
       "  </tbody>\n",
       "</table>\n",
       "</div>"
      ],
      "text/plain": [
       "                                               title  ...  points\n",
       "0      Quinta dos Avidagos 2011 Avidagos Red (Douro)  ...    0.87\n",
       "1      Rainstorm 2013 Pinot Gris (Willamette Valley)  ...    0.87\n",
       "2  St. Julian 2013 Reserve Late Harvest Riesling ...  ...    0.87\n",
       "3  Sweet Cheeks 2012 Vintner's Reserve Wild Child...  ...    0.87\n",
       "4  Tandem 2011 Ars In Vitro Tempranillo-Merlot (N...  ...    0.87\n",
       "\n",
       "[5 rows x 10 columns]"
      ]
     },
     "execution_count": 48,
     "metadata": {
      "tags": []
     },
     "output_type": "execute_result"
    }
   ],
   "source": [
    "train.head()"
   ]
  },
  {
   "cell_type": "markdown",
   "metadata": {
    "colab_type": "text",
    "id": "8xaUw3b2G6Vt"
   },
   "source": [
    "**Tokenize title and description**"
   ]
  },
  {
   "cell_type": "code",
   "execution_count": 49,
   "metadata": {
    "colab": {
     "base_uri": "https://localhost:8080/",
     "height": 63
    },
    "colab_type": "code",
    "executionInfo": {
     "elapsed": 1930,
     "status": "ok",
     "timestamp": 1582281756541,
     "user": {
      "displayName": "Lorenzo Ostano",
      "photoUrl": "https://lh3.googleusercontent.com/a-/AAuE7mDfbTrQOtVl9hqp--PC0XF8fkf5BqgmQs5iU2TvPw=s64",
      "userId": "12249114541243713917"
     },
     "user_tz": -60
    },
    "id": "WVhrkUbFGpKJ",
    "outputId": "74fd34c2-03e4-4913-ce91-c639246c7a94"
   },
   "outputs": [
    {
     "data": {
      "text/html": [
       "<p style=\"color: red;\">\n",
       "The default version of TensorFlow in Colab will soon switch to TensorFlow 2.x.<br>\n",
       "We recommend you <a href=\"https://www.tensorflow.org/guide/migrate\" target=\"_blank\">upgrade</a> now \n",
       "or ensure your notebook will continue to use TensorFlow 1.x via the <code>%tensorflow_version 1.x</code> magic:\n",
       "<a href=\"https://colab.research.google.com/notebooks/tensorflow_version.ipynb\" target=\"_blank\">more info</a>.</p>\n"
      ],
      "text/plain": [
       "<IPython.core.display.HTML object>"
      ]
     },
     "metadata": {
      "tags": []
     },
     "output_type": "display_data"
    }
   ],
   "source": [
    "from tensorflow.keras.preprocessing.text import Tokenizer\n",
    "from tensorflow.keras.preprocessing.sequence import pad_sequences"
   ]
  },
  {
   "cell_type": "code",
   "execution_count": 0,
   "metadata": {
    "colab": {},
    "colab_type": "code",
    "id": "tCZ6jKL6HFFw"
   },
   "outputs": [],
   "source": [
    "title_tk = Tokenizer(filters='')\n",
    "title_tk.fit_on_texts(train['title'])"
   ]
  },
  {
   "cell_type": "code",
   "execution_count": 0,
   "metadata": {
    "colab": {},
    "colab_type": "code",
    "id": "Qr6pUXzWH6Cv"
   },
   "outputs": [],
   "source": [
    "title_train = title_tk.texts_to_sequences(train['title'])\n",
    "title_test = title_tk.texts_to_sequences(test2['title'])"
   ]
  },
  {
   "cell_type": "code",
   "execution_count": 0,
   "metadata": {
    "colab": {},
    "colab_type": "code",
    "id": "mlSP8zWILGw7"
   },
   "outputs": [],
   "source": [
    "max_length = np.max([len(i) for i in title_train])\n",
    "title_pad_train = pad_sequences(title_train, padding='post', maxlen=max_length)\n",
    "title_pad_test = pad_sequences(title_test, padding='post', maxlen=max_length)"
   ]
  },
  {
   "cell_type": "code",
   "execution_count": 53,
   "metadata": {
    "colab": {
     "base_uri": "https://localhost:8080/",
     "height": 34
    },
    "colab_type": "code",
    "executionInfo": {
     "elapsed": 828,
     "status": "ok",
     "timestamp": 1582281767124,
     "user": {
      "displayName": "Lorenzo Ostano",
      "photoUrl": "https://lh3.googleusercontent.com/a-/AAuE7mDfbTrQOtVl9hqp--PC0XF8fkf5BqgmQs5iU2TvPw=s64",
      "userId": "12249114541243713917"
     },
     "user_tz": -60
    },
    "id": "CC8xL9NEL5ml",
    "outputId": "27f7aec5-5ea3-4d89-b691-9539d68379fd"
   },
   "outputs": [
    {
     "data": {
      "text/plain": [
       "(120186, 24)"
      ]
     },
     "execution_count": 53,
     "metadata": {
      "tags": []
     },
     "output_type": "execute_result"
    }
   ],
   "source": [
    "title_pad_train.shape"
   ]
  },
  {
   "cell_type": "markdown",
   "metadata": {
    "colab_type": "text",
    "id": "HSA84kCxM5xh"
   },
   "source": [
    "Tokenize description"
   ]
  },
  {
   "cell_type": "code",
   "execution_count": 0,
   "metadata": {
    "colab": {},
    "colab_type": "code",
    "id": "D5mJ86GtKJPn"
   },
   "outputs": [],
   "source": [
    "tk_desc = Tokenizer()\n",
    "tk_desc.fit_on_texts(train['description'])"
   ]
  },
  {
   "cell_type": "code",
   "execution_count": 0,
   "metadata": {
    "colab": {},
    "colab_type": "code",
    "id": "it6OR3VEICoY"
   },
   "outputs": [],
   "source": [
    "desc_tok_train = tk_desc.texts_to_sequences(train['description'])\n",
    "desc_tok_test = tk_desc.texts_to_sequences(test2['description'])"
   ]
  },
  {
   "cell_type": "code",
   "execution_count": 0,
   "metadata": {
    "colab": {},
    "colab_type": "code",
    "id": "3CqDDHNzNEVa"
   },
   "outputs": [],
   "source": [
    "max_length = np.max([len(i) for i in desc_tok_train])\n",
    "desc_train = pad_sequences(desc_tok_train, padding='post', maxlen=max_length)\n",
    "desc_test = pad_sequences(desc_tok_test, padding='post', maxlen=max_length)"
   ]
  },
  {
   "cell_type": "code",
   "execution_count": 57,
   "metadata": {
    "colab": {
     "base_uri": "https://localhost:8080/",
     "height": 34
    },
    "colab_type": "code",
    "executionInfo": {
     "elapsed": 7984,
     "status": "ok",
     "timestamp": 1582281778869,
     "user": {
      "displayName": "Lorenzo Ostano",
      "photoUrl": "https://lh3.googleusercontent.com/a-/AAuE7mDfbTrQOtVl9hqp--PC0XF8fkf5BqgmQs5iU2TvPw=s64",
      "userId": "12249114541243713917"
     },
     "user_tz": -60
    },
    "id": "vPZa6gpYP7nU",
    "outputId": "a470c4de-a7ea-4099-c8eb-4d11e71eab64"
   },
   "outputs": [
    {
     "data": {
      "text/plain": [
       "(120186, 136)"
      ]
     },
     "execution_count": 57,
     "metadata": {
      "tags": []
     },
     "output_type": "execute_result"
    }
   ],
   "source": [
    "desc_train.shape"
   ]
  },
  {
   "cell_type": "markdown",
   "metadata": {
    "colab_type": "text",
    "id": "4KII7l57NnzO"
   },
   "source": [
    "Stack to build the train and test arrays"
   ]
  },
  {
   "cell_type": "code",
   "execution_count": 0,
   "metadata": {
    "colab": {},
    "colab_type": "code",
    "id": "6G_dDy4vOseh"
   },
   "outputs": [],
   "source": [
    "train_features = train.drop(['title','description','price'], axis=1).values"
   ]
  },
  {
   "cell_type": "code",
   "execution_count": 0,
   "metadata": {
    "colab": {},
    "colab_type": "code",
    "id": "Xx5zU7aLIzbD"
   },
   "outputs": [],
   "source": [
    "test_features = test2.drop(['title','description','price'], axis=1).values"
   ]
  },
  {
   "cell_type": "code",
   "execution_count": 0,
   "metadata": {
    "colab": {},
    "colab_type": "code",
    "id": "jvrEXrjXPmtE"
   },
   "outputs": [],
   "source": [
    "features_train = np.hstack((train_features, title_pad_train, desc_train))"
   ]
  },
  {
   "cell_type": "code",
   "execution_count": 0,
   "metadata": {
    "colab": {},
    "colab_type": "code",
    "id": "s03ves0VIq2I"
   },
   "outputs": [],
   "source": [
    "features_test = np.hstack((test_features, title_pad_test, desc_test))"
   ]
  },
  {
   "cell_type": "code",
   "execution_count": 62,
   "metadata": {
    "colab": {
     "base_uri": "https://localhost:8080/",
     "height": 34
    },
    "colab_type": "code",
    "executionInfo": {
     "elapsed": 1020,
     "status": "ok",
     "timestamp": 1582281784082,
     "user": {
      "displayName": "Lorenzo Ostano",
      "photoUrl": "https://lh3.googleusercontent.com/a-/AAuE7mDfbTrQOtVl9hqp--PC0XF8fkf5BqgmQs5iU2TvPw=s64",
      "userId": "12249114541243713917"
     },
     "user_tz": -60
    },
    "id": "bq207dHfP08Q",
    "outputId": "d55e76bb-232d-4832-dabe-9938e62a2c25"
   },
   "outputs": [
    {
     "data": {
      "text/plain": [
       "(120186, 167)"
      ]
     },
     "execution_count": 62,
     "metadata": {
      "tags": []
     },
     "output_type": "execute_result"
    }
   ],
   "source": [
    "features_train.shape"
   ]
  },
  {
   "cell_type": "code",
   "execution_count": 63,
   "metadata": {
    "colab": {
     "base_uri": "https://localhost:8080/",
     "height": 34
    },
    "colab_type": "code",
    "executionInfo": {
     "elapsed": 405,
     "status": "ok",
     "timestamp": 1582281784390,
     "user": {
      "displayName": "Lorenzo Ostano",
      "photoUrl": "https://lh3.googleusercontent.com/a-/AAuE7mDfbTrQOtVl9hqp--PC0XF8fkf5BqgmQs5iU2TvPw=s64",
      "userId": "12249114541243713917"
     },
     "user_tz": -60
    },
    "id": "tLhgrGOfMVrX",
    "outputId": "153c1061-68fa-4f12-ac5f-8b624488e7fa"
   },
   "outputs": [
    {
     "data": {
      "text/plain": [
       "(8996, 167)"
      ]
     },
     "execution_count": 63,
     "metadata": {
      "tags": []
     },
     "output_type": "execute_result"
    }
   ],
   "source": [
    "features_test.shape"
   ]
  },
  {
   "cell_type": "markdown",
   "metadata": {
    "colab_type": "text",
    "id": "TjdSL7JlMdiV"
   },
   "source": [
    "**Extract train target variable**"
   ]
  },
  {
   "cell_type": "code",
   "execution_count": 0,
   "metadata": {
    "colab": {},
    "colab_type": "code",
    "id": "WDI0i7SoQDsw"
   },
   "outputs": [],
   "source": [
    "target = train['price'].values"
   ]
  },
  {
   "cell_type": "markdown",
   "metadata": {
    "colab_type": "text",
    "id": "WbdW0O24IAqc"
   },
   "source": [
    "**Separate dataset into train and test**"
   ]
  },
  {
   "cell_type": "code",
   "execution_count": 0,
   "metadata": {
    "colab": {},
    "colab_type": "code",
    "id": "MbcoJrvvIIGh"
   },
   "outputs": [],
   "source": [
    "from sklearn.model_selection import train_test_split"
   ]
  },
  {
   "cell_type": "code",
   "execution_count": 66,
   "metadata": {
    "colab": {
     "base_uri": "https://localhost:8080/",
     "height": 34
    },
    "colab_type": "code",
    "executionInfo": {
     "elapsed": 870,
     "status": "ok",
     "timestamp": 1582281789426,
     "user": {
      "displayName": "Lorenzo Ostano",
      "photoUrl": "https://lh3.googleusercontent.com/a-/AAuE7mDfbTrQOtVl9hqp--PC0XF8fkf5BqgmQs5iU2TvPw=s64",
      "userId": "12249114541243713917"
     },
     "user_tz": -60
    },
    "id": "kWWRHAT-IOQy",
    "outputId": "e3a17e4d-5909-49a4-8170-9563e6fe8795"
   },
   "outputs": [
    {
     "data": {
      "text/plain": [
       "((96148, 167), (24038, 167))"
      ]
     },
     "execution_count": 66,
     "metadata": {
      "tags": []
     },
     "output_type": "execute_result"
    }
   ],
   "source": [
    "X_train, X_test, y_train, y_test = train_test_split(features_train, target, test_size=0.2, random_state=0, shuffle=True) # we are setting the seed\n",
    "X_train.shape, X_test.shape"
   ]
  },
  {
   "cell_type": "markdown",
   "metadata": {
    "colab_type": "text",
    "id": "vinPez0qhgtw"
   },
   "source": [
    "# **Neural Net Model**"
   ]
  },
  {
   "cell_type": "code",
   "execution_count": 0,
   "metadata": {
    "colab": {},
    "colab_type": "code",
    "id": "akO1XQdIQ6q1"
   },
   "outputs": [],
   "source": [
    "import tensorflow as tf"
   ]
  },
  {
   "cell_type": "code",
   "execution_count": 0,
   "metadata": {
    "colab": {},
    "colab_type": "code",
    "id": "6uRtTJbDhkCQ"
   },
   "outputs": [],
   "source": [
    "def build_model(dim):\n",
    "    Input = tf.keras.layers.Input(shape=dim, dtype='float64')\n",
    "    #Input = tf.keras.layers.Input(shape=dim, dtype='float64', sparse=True)\n",
    "    dense1 = tf.keras.layers.Dense(128, activation='relu')(Input)\n",
    "    dropout = tf.keras.layers.Dropout(0.2)(dense1)\n",
    "    dense2 = tf.keras.layers.Dense(1, activation='linear')(dropout)\n",
    "\n",
    "    model = tf.keras.models.Model(inputs=Input, outputs=dense2)\n",
    "\n",
    "    return model"
   ]
  },
  {
   "cell_type": "code",
   "execution_count": 69,
   "metadata": {
    "colab": {
     "base_uri": "https://localhost:8080/",
     "height": 88
    },
    "colab_type": "code",
    "executionInfo": {
     "elapsed": 809,
     "status": "ok",
     "timestamp": 1582281794841,
     "user": {
      "displayName": "Lorenzo Ostano",
      "photoUrl": "https://lh3.googleusercontent.com/a-/AAuE7mDfbTrQOtVl9hqp--PC0XF8fkf5BqgmQs5iU2TvPw=s64",
      "userId": "12249114541243713917"
     },
     "user_tz": -60
    },
    "id": "1LVyYyZPkL3z",
    "outputId": "8ed49e98-2481-4f76-b285-2e23cd2a2a64"
   },
   "outputs": [
    {
     "name": "stdout",
     "output_type": "stream",
     "text": [
      "WARNING:tensorflow:From /usr/local/lib/python3.6/dist-packages/tensorflow_core/python/ops/resource_variable_ops.py:1630: calling BaseResourceVariable.__init__ (from tensorflow.python.ops.resource_variable_ops) with constraint is deprecated and will be removed in a future version.\n",
      "Instructions for updating:\n",
      "If using Keras pass *_constraint arguments to layers.\n"
     ]
    }
   ],
   "source": [
    "model = build_model(dim=X_train.shape[1])"
   ]
  },
  {
   "cell_type": "code",
   "execution_count": 0,
   "metadata": {
    "colab": {},
    "colab_type": "code",
    "id": "u_1SUIeaknRb"
   },
   "outputs": [],
   "source": [
    "model.compile(optimizer='adam', loss=tf.keras.losses.MeanAbsolutePercentageError(),\n",
    "              metrics=[tf.keras.metrics.MeanAbsolutePercentageError()])"
   ]
  },
  {
   "cell_type": "code",
   "execution_count": 71,
   "metadata": {
    "colab": {
     "base_uri": "https://localhost:8080/",
     "height": 289
    },
    "colab_type": "code",
    "executionInfo": {
     "elapsed": 591,
     "status": "ok",
     "timestamp": 1582281797321,
     "user": {
      "displayName": "Lorenzo Ostano",
      "photoUrl": "https://lh3.googleusercontent.com/a-/AAuE7mDfbTrQOtVl9hqp--PC0XF8fkf5BqgmQs5iU2TvPw=s64",
      "userId": "12249114541243713917"
     },
     "user_tz": -60
    },
    "id": "bQZKK07BlJ-u",
    "outputId": "731437c1-a5a6-442a-f2cc-1126b0fa7bba"
   },
   "outputs": [
    {
     "name": "stdout",
     "output_type": "stream",
     "text": [
      "Model: \"model\"\n",
      "_________________________________________________________________\n",
      "Layer (type)                 Output Shape              Param #   \n",
      "=================================================================\n",
      "input_1 (InputLayer)         [(None, 167)]             0         \n",
      "_________________________________________________________________\n",
      "dense (Dense)                (None, 128)               21504     \n",
      "_________________________________________________________________\n",
      "dropout (Dropout)            (None, 128)               0         \n",
      "_________________________________________________________________\n",
      "dense_1 (Dense)              (None, 1)                 129       \n",
      "=================================================================\n",
      "Total params: 21,633\n",
      "Trainable params: 21,633\n",
      "Non-trainable params: 0\n",
      "_________________________________________________________________\n"
     ]
    }
   ],
   "source": [
    "model.summary()"
   ]
  },
  {
   "cell_type": "code",
   "execution_count": 72,
   "metadata": {
    "colab": {
     "base_uri": "https://localhost:8080/",
     "height": 1000
    },
    "colab_type": "code",
    "executionInfo": {
     "elapsed": 71339,
     "status": "ok",
     "timestamp": 1582281869391,
     "user": {
      "displayName": "Lorenzo Ostano",
      "photoUrl": "https://lh3.googleusercontent.com/a-/AAuE7mDfbTrQOtVl9hqp--PC0XF8fkf5BqgmQs5iU2TvPw=s64",
      "userId": "12249114541243713917"
     },
     "user_tz": -60
    },
    "id": "kVScc_6zzYV_",
    "outputId": "4981d923-687a-4a11-b9ab-f29278b25f66"
   },
   "outputs": [
    {
     "name": "stdout",
     "output_type": "stream",
     "text": [
      "Train on 96148 samples, validate on 24038 samples\n",
      "Epoch 1/30\n",
      "96148/96148 - 3s - loss: 4860.9215 - mean_absolute_percentage_error: 4860.9209 - val_loss: 128.4230 - val_mean_absolute_percentage_error: 128.4230\n",
      "Epoch 2/30\n",
      "96148/96148 - 2s - loss: 86.9382 - mean_absolute_percentage_error: 86.9382 - val_loss: 63.2689 - val_mean_absolute_percentage_error: 63.2689\n",
      "Epoch 3/30\n",
      "96148/96148 - 2s - loss: 64.7961 - mean_absolute_percentage_error: 64.7961 - val_loss: 52.2539 - val_mean_absolute_percentage_error: 52.2539\n",
      "Epoch 4/30\n",
      "96148/96148 - 2s - loss: 51.0821 - mean_absolute_percentage_error: 51.0821 - val_loss: 46.9115 - val_mean_absolute_percentage_error: 46.9115\n",
      "Epoch 5/30\n",
      "96148/96148 - 2s - loss: 38.4786 - mean_absolute_percentage_error: 38.4786 - val_loss: 32.3532 - val_mean_absolute_percentage_error: 32.3532\n",
      "Epoch 6/30\n",
      "96148/96148 - 2s - loss: 29.2931 - mean_absolute_percentage_error: 29.2931 - val_loss: 26.9522 - val_mean_absolute_percentage_error: 26.9523\n",
      "Epoch 7/30\n",
      "96148/96148 - 2s - loss: 23.6094 - mean_absolute_percentage_error: 23.6094 - val_loss: 21.2711 - val_mean_absolute_percentage_error: 21.2711\n",
      "Epoch 8/30\n",
      "96148/96148 - 2s - loss: 19.9519 - mean_absolute_percentage_error: 19.9519 - val_loss: 20.2331 - val_mean_absolute_percentage_error: 20.2331\n",
      "Epoch 9/30\n",
      "96148/96148 - 2s - loss: 18.0527 - mean_absolute_percentage_error: 18.0527 - val_loss: 18.3081 - val_mean_absolute_percentage_error: 18.3081\n",
      "Epoch 10/30\n",
      "96148/96148 - 2s - loss: 16.8916 - mean_absolute_percentage_error: 16.8916 - val_loss: 16.1751 - val_mean_absolute_percentage_error: 16.1751\n",
      "Epoch 11/30\n",
      "96148/96148 - 2s - loss: 16.1533 - mean_absolute_percentage_error: 16.1533 - val_loss: 15.6757 - val_mean_absolute_percentage_error: 15.6757\n",
      "Epoch 12/30\n",
      "96148/96148 - 2s - loss: 15.7338 - mean_absolute_percentage_error: 15.7338 - val_loss: 15.3564 - val_mean_absolute_percentage_error: 15.3564\n",
      "Epoch 13/30\n",
      "96148/96148 - 2s - loss: 15.4128 - mean_absolute_percentage_error: 15.4128 - val_loss: 15.0183 - val_mean_absolute_percentage_error: 15.0183\n",
      "Epoch 14/30\n",
      "96148/96148 - 2s - loss: 15.3041 - mean_absolute_percentage_error: 15.3041 - val_loss: 14.9905 - val_mean_absolute_percentage_error: 14.9905\n",
      "Epoch 15/30\n",
      "96148/96148 - 2s - loss: 15.2992 - mean_absolute_percentage_error: 15.2992 - val_loss: 14.9027 - val_mean_absolute_percentage_error: 14.9027\n",
      "Epoch 16/30\n",
      "96148/96148 - 2s - loss: 15.0910 - mean_absolute_percentage_error: 15.0910 - val_loss: 14.6033 - val_mean_absolute_percentage_error: 14.6033\n",
      "Epoch 17/30\n",
      "96148/96148 - 2s - loss: 14.9615 - mean_absolute_percentage_error: 14.9615 - val_loss: 14.6487 - val_mean_absolute_percentage_error: 14.6487\n",
      "Epoch 18/30\n",
      "96148/96148 - 2s - loss: 14.9537 - mean_absolute_percentage_error: 14.9537 - val_loss: 14.4692 - val_mean_absolute_percentage_error: 14.4692\n",
      "Epoch 19/30\n",
      "96148/96148 - 2s - loss: 14.8879 - mean_absolute_percentage_error: 14.8879 - val_loss: 14.4597 - val_mean_absolute_percentage_error: 14.4597\n",
      "Epoch 20/30\n",
      "96148/96148 - 2s - loss: 14.8629 - mean_absolute_percentage_error: 14.8629 - val_loss: 14.3333 - val_mean_absolute_percentage_error: 14.3333\n",
      "Epoch 21/30\n",
      "96148/96148 - 2s - loss: 14.8105 - mean_absolute_percentage_error: 14.8105 - val_loss: 14.8792 - val_mean_absolute_percentage_error: 14.8792\n",
      "Epoch 22/30\n",
      "96148/96148 - 2s - loss: 14.7540 - mean_absolute_percentage_error: 14.7540 - val_loss: 14.9573 - val_mean_absolute_percentage_error: 14.9573\n",
      "Epoch 23/30\n",
      "96148/96148 - 2s - loss: 14.7506 - mean_absolute_percentage_error: 14.7506 - val_loss: 15.2015 - val_mean_absolute_percentage_error: 15.2015\n",
      "Epoch 24/30\n",
      "96148/96148 - 2s - loss: 14.7220 - mean_absolute_percentage_error: 14.7220 - val_loss: 14.9159 - val_mean_absolute_percentage_error: 14.9159\n",
      "Epoch 25/30\n",
      "96148/96148 - 2s - loss: 14.6792 - mean_absolute_percentage_error: 14.6792 - val_loss: 14.1567 - val_mean_absolute_percentage_error: 14.1567\n",
      "Epoch 26/30\n",
      "96148/96148 - 2s - loss: 14.6608 - mean_absolute_percentage_error: 14.6608 - val_loss: 14.2527 - val_mean_absolute_percentage_error: 14.2527\n",
      "Epoch 27/30\n",
      "96148/96148 - 2s - loss: 14.6395 - mean_absolute_percentage_error: 14.6395 - val_loss: 14.1702 - val_mean_absolute_percentage_error: 14.1702\n",
      "Epoch 28/30\n",
      "96148/96148 - 2s - loss: 14.6769 - mean_absolute_percentage_error: 14.6769 - val_loss: 14.2677 - val_mean_absolute_percentage_error: 14.2677\n",
      "Epoch 29/30\n",
      "96148/96148 - 2s - loss: 14.6925 - mean_absolute_percentage_error: 14.6925 - val_loss: 14.8677 - val_mean_absolute_percentage_error: 14.8677\n",
      "Epoch 30/30\n",
      "96148/96148 - 2s - loss: 14.6302 - mean_absolute_percentage_error: 14.6302 - val_loss: 14.4322 - val_mean_absolute_percentage_error: 14.4322\n"
     ]
    },
    {
     "data": {
      "text/plain": [
       "<tensorflow.python.keras.callbacks.History at 0x7f54d2ef7e48>"
      ]
     },
     "execution_count": 72,
     "metadata": {
      "tags": []
     },
     "output_type": "execute_result"
    }
   ],
   "source": [
    "model.fit(X_train, y_train,\n",
    "          validation_data=(X_test, y_test),\n",
    "          batch_size=128,\n",
    "          epochs=30, verbose=2)"
   ]
  },
  {
   "cell_type": "markdown",
   "metadata": {
    "colab_type": "text",
    "id": "uxfk-6zzEQLw"
   },
   "source": [
    "# **Calculate estimations with pour trained model on the test dataset**"
   ]
  },
  {
   "cell_type": "code",
   "execution_count": 0,
   "metadata": {
    "colab": {},
    "colab_type": "code",
    "id": "dR1fClg2Ut5Y"
   },
   "outputs": [],
   "source": [
    "test = test.drop('price',axis=1)"
   ]
  },
  {
   "cell_type": "code",
   "execution_count": 74,
   "metadata": {
    "colab": {
     "base_uri": "https://localhost:8080/",
     "height": 359
    },
    "colab_type": "code",
    "executionInfo": {
     "elapsed": 920,
     "status": "ok",
     "timestamp": 1582281947347,
     "user": {
      "displayName": "Lorenzo Ostano",
      "photoUrl": "https://lh3.googleusercontent.com/a-/AAuE7mDfbTrQOtVl9hqp--PC0XF8fkf5BqgmQs5iU2TvPw=s64",
      "userId": "12249114541243713917"
     },
     "user_tz": -60
    },
    "id": "6ercdNXeE3Eq",
    "outputId": "7faf86b0-7383-4594-88d4-d1233d80bdb6"
   },
   "outputs": [
    {
     "data": {
      "text/html": [
       "<div>\n",
       "<style scoped>\n",
       "    .dataframe tbody tr th:only-of-type {\n",
       "        vertical-align: middle;\n",
       "    }\n",
       "\n",
       "    .dataframe tbody tr th {\n",
       "        vertical-align: top;\n",
       "    }\n",
       "\n",
       "    .dataframe thead th {\n",
       "        text-align: right;\n",
       "    }\n",
       "</style>\n",
       "<table border=\"1\" class=\"dataframe\">\n",
       "  <thead>\n",
       "    <tr style=\"text-align: right;\">\n",
       "      <th></th>\n",
       "      <th>title</th>\n",
       "      <th>variety</th>\n",
       "      <th>designation</th>\n",
       "      <th>country</th>\n",
       "      <th>province</th>\n",
       "      <th>description</th>\n",
       "      <th>winery</th>\n",
       "      <th>taster_name</th>\n",
       "      <th>points</th>\n",
       "    </tr>\n",
       "  </thead>\n",
       "  <tbody>\n",
       "    <tr>\n",
       "      <th>0</th>\n",
       "      <td>Nicosia 2013 Vulkà Bianco  (Etna)</td>\n",
       "      <td>White Blend</td>\n",
       "      <td>Vulkà Bianco</td>\n",
       "      <td>Italy</td>\n",
       "      <td>Sicily &amp; Sardinia</td>\n",
       "      <td>Aromas include tropical fruit, broom, brimston...</td>\n",
       "      <td>Nicosia</td>\n",
       "      <td>Kerin O’Keefe</td>\n",
       "      <td>87</td>\n",
       "    </tr>\n",
       "    <tr>\n",
       "      <th>1</th>\n",
       "      <td>Masseria Setteporte 2012 Rosso  (Etna)</td>\n",
       "      <td>Nerello Mascalese</td>\n",
       "      <td>Rosso</td>\n",
       "      <td>Italy</td>\n",
       "      <td>Sicily &amp; Sardinia</td>\n",
       "      <td>This is dominated by oak and oak-driven aromas...</td>\n",
       "      <td>Masseria Setteporte</td>\n",
       "      <td>Kerin O’Keefe</td>\n",
       "      <td>87</td>\n",
       "    </tr>\n",
       "    <tr>\n",
       "      <th>2</th>\n",
       "      <td>Domaine de la Madone 2012 Nouveau  (Beaujolais...</td>\n",
       "      <td>Gamay</td>\n",
       "      <td>Nouveau</td>\n",
       "      <td>France</td>\n",
       "      <td>Beaujolais</td>\n",
       "      <td>Red cherry fruit comes laced with light tannin...</td>\n",
       "      <td>Domaine de la Madone</td>\n",
       "      <td>Roger Voss</td>\n",
       "      <td>86</td>\n",
       "    </tr>\n",
       "    <tr>\n",
       "      <th>3</th>\n",
       "      <td>Duca di Salaparuta 2010 Calanìca Nero d'Avola-...</td>\n",
       "      <td>Red Blend</td>\n",
       "      <td>Calanìca Nero d'Avola-Merlot</td>\n",
       "      <td>Italy</td>\n",
       "      <td>Sicily &amp; Sardinia</td>\n",
       "      <td>Merlot and Nero d'Avola form the base for this...</td>\n",
       "      <td>Duca di Salaparuta</td>\n",
       "      <td>NaN</td>\n",
       "      <td>86</td>\n",
       "    </tr>\n",
       "    <tr>\n",
       "      <th>4</th>\n",
       "      <td>Duca di Salaparuta 2011 Calanìca Grillo-Viogni...</td>\n",
       "      <td>White Blend</td>\n",
       "      <td>Calanìca Grillo-Viognier</td>\n",
       "      <td>Italy</td>\n",
       "      <td>Sicily &amp; Sardinia</td>\n",
       "      <td>Part of the extended Calanìca series, this Gri...</td>\n",
       "      <td>Duca di Salaparuta</td>\n",
       "      <td>NaN</td>\n",
       "      <td>86</td>\n",
       "    </tr>\n",
       "    <tr>\n",
       "      <th>5</th>\n",
       "      <td>Viticultori Associati Canicatti 2008 Scialo Re...</td>\n",
       "      <td>Red Blend</td>\n",
       "      <td>Scialo</td>\n",
       "      <td>Italy</td>\n",
       "      <td>Sicily &amp; Sardinia</td>\n",
       "      <td>This blend of Nero d'Avola and Syrah opens wit...</td>\n",
       "      <td>Viticultori Associati Canicatti</td>\n",
       "      <td>NaN</td>\n",
       "      <td>86</td>\n",
       "    </tr>\n",
       "    <tr>\n",
       "      <th>6</th>\n",
       "      <td>Corvo 2010 Rosso Red (Sicilia)</td>\n",
       "      <td>Red Blend</td>\n",
       "      <td>Rosso</td>\n",
       "      <td>Italy</td>\n",
       "      <td>Sicily &amp; Sardinia</td>\n",
       "      <td>A blend of Nero d'Avola and Nerello Mascalese,...</td>\n",
       "      <td>Corvo</td>\n",
       "      <td>NaN</td>\n",
       "      <td>85</td>\n",
       "    </tr>\n",
       "    <tr>\n",
       "      <th>7</th>\n",
       "      <td>Adega Cooperativa do Cartaxo 2014 Bridão Touri...</td>\n",
       "      <td>Touriga Nacional</td>\n",
       "      <td>Bridão</td>\n",
       "      <td>Portugal</td>\n",
       "      <td>Tejo</td>\n",
       "      <td>Grown on the sandy soil of Tejo, the wine is t...</td>\n",
       "      <td>Adega Cooperativa do Cartaxo</td>\n",
       "      <td>Roger Voss</td>\n",
       "      <td>86</td>\n",
       "    </tr>\n",
       "    <tr>\n",
       "      <th>8</th>\n",
       "      <td>Beaumont 2005 Hope Marguerite Chenin Blanc (Wa...</td>\n",
       "      <td>Chenin Blanc</td>\n",
       "      <td>Hope Marguerite</td>\n",
       "      <td>South Africa</td>\n",
       "      <td>Walker Bay</td>\n",
       "      <td>This is great Chenin Blanc, wood fermented but...</td>\n",
       "      <td>Beaumont</td>\n",
       "      <td>Roger Voss</td>\n",
       "      <td>90</td>\n",
       "    </tr>\n",
       "    <tr>\n",
       "      <th>9</th>\n",
       "      <td>Castello Romitorio 2011 Filo di Seta  (Brunell...</td>\n",
       "      <td>Sangiovese</td>\n",
       "      <td>Filo di Seta</td>\n",
       "      <td>Italy</td>\n",
       "      <td>Tuscany</td>\n",
       "      <td>Intense aromas of ripe red berry, menthol, esp...</td>\n",
       "      <td>Castello Romitorio</td>\n",
       "      <td>Kerin O’Keefe</td>\n",
       "      <td>91</td>\n",
       "    </tr>\n",
       "  </tbody>\n",
       "</table>\n",
       "</div>"
      ],
      "text/plain": [
       "                                               title  ... points\n",
       "0                  Nicosia 2013 Vulkà Bianco  (Etna)  ...     87\n",
       "1             Masseria Setteporte 2012 Rosso  (Etna)  ...     87\n",
       "2  Domaine de la Madone 2012 Nouveau  (Beaujolais...  ...     86\n",
       "3  Duca di Salaparuta 2010 Calanìca Nero d'Avola-...  ...     86\n",
       "4  Duca di Salaparuta 2011 Calanìca Grillo-Viogni...  ...     86\n",
       "5  Viticultori Associati Canicatti 2008 Scialo Re...  ...     86\n",
       "6                     Corvo 2010 Rosso Red (Sicilia)  ...     85\n",
       "7  Adega Cooperativa do Cartaxo 2014 Bridão Touri...  ...     86\n",
       "8  Beaumont 2005 Hope Marguerite Chenin Blanc (Wa...  ...     90\n",
       "9  Castello Romitorio 2011 Filo di Seta  (Brunell...  ...     91\n",
       "\n",
       "[10 rows x 9 columns]"
      ]
     },
     "execution_count": 74,
     "metadata": {
      "tags": []
     },
     "output_type": "execute_result"
    }
   ],
   "source": [
    "test.head(10)"
   ]
  },
  {
   "cell_type": "code",
   "execution_count": 0,
   "metadata": {
    "colab": {},
    "colab_type": "code",
    "id": "p10oqXGFF3PY"
   },
   "outputs": [],
   "source": [
    "price_predictions_log = np.rint(np.exp(np.squeeze(model.predict(features_test))))"
   ]
  },
  {
   "cell_type": "code",
   "execution_count": 76,
   "metadata": {
    "colab": {
     "base_uri": "https://localhost:8080/",
     "height": 34
    },
    "colab_type": "code",
    "executionInfo": {
     "elapsed": 1535,
     "status": "ok",
     "timestamp": 1582281954501,
     "user": {
      "displayName": "Lorenzo Ostano",
      "photoUrl": "https://lh3.googleusercontent.com/a-/AAuE7mDfbTrQOtVl9hqp--PC0XF8fkf5BqgmQs5iU2TvPw=s64",
      "userId": "12249114541243713917"
     },
     "user_tz": -60
    },
    "id": "VyEbYPUKPX1Q",
    "outputId": "3601aad9-7b59-4a57-dedc-58fc38999bc9"
   },
   "outputs": [
    {
     "data": {
      "text/plain": [
       "(8996,)"
      ]
     },
     "execution_count": 76,
     "metadata": {
      "tags": []
     },
     "output_type": "execute_result"
    }
   ],
   "source": [
    "price_predictions_log.shape"
   ]
  },
  {
   "cell_type": "code",
   "execution_count": 79,
   "metadata": {
    "colab": {
     "base_uri": "https://localhost:8080/",
     "height": 34
    },
    "colab_type": "code",
    "executionInfo": {
     "elapsed": 677,
     "status": "ok",
     "timestamp": 1582281971401,
     "user": {
      "displayName": "Lorenzo Ostano",
      "photoUrl": "https://lh3.googleusercontent.com/a-/AAuE7mDfbTrQOtVl9hqp--PC0XF8fkf5BqgmQs5iU2TvPw=s64",
      "userId": "12249114541243713917"
     },
     "user_tz": -60
    },
    "id": "aabg2Pl0PcXV",
    "outputId": "02c9079a-7c7e-4356-913e-3854d082f0bb"
   },
   "outputs": [
    {
     "data": {
      "text/plain": [
       "12.0"
      ]
     },
     "execution_count": 79,
     "metadata": {
      "tags": []
     },
     "output_type": "execute_result"
    }
   ],
   "source": [
    "price_predictions_log.min()"
   ]
  },
  {
   "cell_type": "markdown",
   "metadata": {
    "colab_type": "text",
    "id": "959us-wGRFBw"
   },
   "source": [
    "Now we can attach our estimated prices to the testset"
   ]
  },
  {
   "cell_type": "code",
   "execution_count": 0,
   "metadata": {
    "colab": {},
    "colab_type": "code",
    "id": "ODPUXW7sPnqR"
   },
   "outputs": [],
   "source": [
    "test['price'] = pd.Series(price_predictions_log)"
   ]
  },
  {
   "cell_type": "markdown",
   "metadata": {
    "colab_type": "text",
    "id": "mY-2xh2wXwlT"
   },
   "source": [
    "little preview"
   ]
  },
  {
   "cell_type": "code",
   "execution_count": 81,
   "metadata": {
    "colab": {
     "base_uri": "https://localhost:8080/",
     "height": 204
    },
    "colab_type": "code",
    "executionInfo": {
     "elapsed": 545,
     "status": "ok",
     "timestamp": 1582282020922,
     "user": {
      "displayName": "Lorenzo Ostano",
      "photoUrl": "https://lh3.googleusercontent.com/a-/AAuE7mDfbTrQOtVl9hqp--PC0XF8fkf5BqgmQs5iU2TvPw=s64",
      "userId": "12249114541243713917"
     },
     "user_tz": -60
    },
    "id": "PKrIII80W4EY",
    "outputId": "5dc57930-482d-49fb-e65f-5da1980f9fca"
   },
   "outputs": [
    {
     "data": {
      "text/html": [
       "<div>\n",
       "<style scoped>\n",
       "    .dataframe tbody tr th:only-of-type {\n",
       "        vertical-align: middle;\n",
       "    }\n",
       "\n",
       "    .dataframe tbody tr th {\n",
       "        vertical-align: top;\n",
       "    }\n",
       "\n",
       "    .dataframe thead th {\n",
       "        text-align: right;\n",
       "    }\n",
       "</style>\n",
       "<table border=\"1\" class=\"dataframe\">\n",
       "  <thead>\n",
       "    <tr style=\"text-align: right;\">\n",
       "      <th></th>\n",
       "      <th>title</th>\n",
       "      <th>variety</th>\n",
       "      <th>designation</th>\n",
       "      <th>country</th>\n",
       "      <th>province</th>\n",
       "      <th>description</th>\n",
       "      <th>winery</th>\n",
       "      <th>taster_name</th>\n",
       "      <th>points</th>\n",
       "      <th>price</th>\n",
       "    </tr>\n",
       "  </thead>\n",
       "  <tbody>\n",
       "    <tr>\n",
       "      <th>0</th>\n",
       "      <td>Nicosia 2013 Vulkà Bianco  (Etna)</td>\n",
       "      <td>White Blend</td>\n",
       "      <td>Vulkà Bianco</td>\n",
       "      <td>Italy</td>\n",
       "      <td>Sicily &amp; Sardinia</td>\n",
       "      <td>Aromas include tropical fruit, broom, brimston...</td>\n",
       "      <td>Nicosia</td>\n",
       "      <td>Kerin O’Keefe</td>\n",
       "      <td>87</td>\n",
       "      <td>18.0</td>\n",
       "    </tr>\n",
       "    <tr>\n",
       "      <th>1</th>\n",
       "      <td>Masseria Setteporte 2012 Rosso  (Etna)</td>\n",
       "      <td>Nerello Mascalese</td>\n",
       "      <td>Rosso</td>\n",
       "      <td>Italy</td>\n",
       "      <td>Sicily &amp; Sardinia</td>\n",
       "      <td>This is dominated by oak and oak-driven aromas...</td>\n",
       "      <td>Masseria Setteporte</td>\n",
       "      <td>Kerin O’Keefe</td>\n",
       "      <td>87</td>\n",
       "      <td>22.0</td>\n",
       "    </tr>\n",
       "    <tr>\n",
       "      <th>2</th>\n",
       "      <td>Domaine de la Madone 2012 Nouveau  (Beaujolais...</td>\n",
       "      <td>Gamay</td>\n",
       "      <td>Nouveau</td>\n",
       "      <td>France</td>\n",
       "      <td>Beaujolais</td>\n",
       "      <td>Red cherry fruit comes laced with light tannin...</td>\n",
       "      <td>Domaine de la Madone</td>\n",
       "      <td>Roger Voss</td>\n",
       "      <td>86</td>\n",
       "      <td>20.0</td>\n",
       "    </tr>\n",
       "    <tr>\n",
       "      <th>3</th>\n",
       "      <td>Duca di Salaparuta 2010 Calanìca Nero d'Avola-...</td>\n",
       "      <td>Red Blend</td>\n",
       "      <td>Calanìca Nero d'Avola-Merlot</td>\n",
       "      <td>Italy</td>\n",
       "      <td>Sicily &amp; Sardinia</td>\n",
       "      <td>Merlot and Nero d'Avola form the base for this...</td>\n",
       "      <td>Duca di Salaparuta</td>\n",
       "      <td>NaN</td>\n",
       "      <td>86</td>\n",
       "      <td>21.0</td>\n",
       "    </tr>\n",
       "    <tr>\n",
       "      <th>4</th>\n",
       "      <td>Duca di Salaparuta 2011 Calanìca Grillo-Viogni...</td>\n",
       "      <td>White Blend</td>\n",
       "      <td>Calanìca Grillo-Viognier</td>\n",
       "      <td>Italy</td>\n",
       "      <td>Sicily &amp; Sardinia</td>\n",
       "      <td>Part of the extended Calanìca series, this Gri...</td>\n",
       "      <td>Duca di Salaparuta</td>\n",
       "      <td>NaN</td>\n",
       "      <td>86</td>\n",
       "      <td>18.0</td>\n",
       "    </tr>\n",
       "  </tbody>\n",
       "</table>\n",
       "</div>"
      ],
      "text/plain": [
       "                                               title  ... price\n",
       "0                  Nicosia 2013 Vulkà Bianco  (Etna)  ...  18.0\n",
       "1             Masseria Setteporte 2012 Rosso  (Etna)  ...  22.0\n",
       "2  Domaine de la Madone 2012 Nouveau  (Beaujolais...  ...  20.0\n",
       "3  Duca di Salaparuta 2010 Calanìca Nero d'Avola-...  ...  21.0\n",
       "4  Duca di Salaparuta 2011 Calanìca Grillo-Viogni...  ...  18.0\n",
       "\n",
       "[5 rows x 10 columns]"
      ]
     },
     "execution_count": 81,
     "metadata": {
      "tags": []
     },
     "output_type": "execute_result"
    }
   ],
   "source": [
    "test.head()"
   ]
  },
  {
   "cell_type": "code",
   "execution_count": 0,
   "metadata": {
    "colab": {},
    "colab_type": "code",
    "id": "vcvIsCDkW5Wn"
   },
   "outputs": [],
   "source": []
  }
 ],
 "metadata": {
  "accelerator": "GPU",
  "colab": {
   "authorship_tag": "ABX9TyMRTObOLLYRL3YsfatxV+gv",
   "collapsed_sections": [],
   "machine_shape": "hm",
   "name": "Price_Estimation.ipynb",
   "provenance": []
  },
  "kernelspec": {
   "display_name": "Python 3",
   "language": "python",
   "name": "python3"
  },
  "language_info": {
   "codemirror_mode": {
    "name": "ipython",
    "version": 3
   },
   "file_extension": ".py",
   "mimetype": "text/x-python",
   "name": "python",
   "nbconvert_exporter": "python",
   "pygments_lexer": "ipython3",
   "version": "3.7.3"
  }
 },
 "nbformat": 4,
 "nbformat_minor": 1
}
